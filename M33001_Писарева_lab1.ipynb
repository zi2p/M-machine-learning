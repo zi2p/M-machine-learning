{
  "nbformat": 4,
  "nbformat_minor": 0,
  "metadata": {
    "colab": {
      "provenance": [],
      "include_colab_link": true
    },
    "kernelspec": {
      "display_name": "Python 3",
      "language": "python",
      "name": "python3"
    },
    "language_info": {
      "codemirror_mode": {
        "name": "ipython",
        "version": 3
      },
      "file_extension": ".py",
      "mimetype": "text/x-python",
      "name": "python",
      "nbconvert_exporter": "python",
      "pygments_lexer": "ipython3",
      "version": "3.7.4"
    }
  },
  "cells": [
    {
      "cell_type": "markdown",
      "metadata": {
        "id": "view-in-github",
        "colab_type": "text"
      },
      "source": [
        "<a href=\"https://colab.research.google.com/github/zi2p/M-machine-learning/blob/main/M33001_%D0%9F%D0%B8%D1%81%D0%B0%D1%80%D0%B5%D0%B2%D0%B0_lab1.ipynb\" target=\"_parent\"><img src=\"https://colab.research.google.com/assets/colab-badge.svg\" alt=\"Open In Colab\"/></a>"
      ]
    },
    {
      "cell_type": "markdown",
      "source": [
        "Перед началом выполнения, сделайте копию этого colab'а. Чтобы сделать копию нужно в пункте меню Файл выбрать \"Сохранить копию на диске\""
      ],
      "metadata": {
        "id": "131T1pm5PaF4"
      }
    },
    {
      "cell_type": "markdown",
      "metadata": {
        "id": "BsNwjQDRfmLY"
      },
      "source": [
        "# Задание 1"
      ]
    },
    {
      "cell_type": "markdown",
      "metadata": {
        "id": "wu6r1-s7fmLe"
      },
      "source": [
        "---"
      ]
    },
    {
      "cell_type": "markdown",
      "metadata": {
        "id": "zxRIdPO9gYyX"
      },
      "source": [
        "Напишите программу, которая будет решать систему линейных уравнений вида:\n",
        "\n",
        "\\begin{matrix} a_{11}x+a_{12}y=b_{1}&(1) \\\\ a_{21}x+a_{22}y=b_{2} &(2) \\end{matrix}\n",
        "​\t\n",
        "На вход программа должна принимать 2 строки.\n",
        "\n",
        "Каждая строка содержит 3 действительных числа через пробел: коэффициенты a и b.\n",
        "\n",
        "На выходе программа должна выдавать значения x и y в одну строку через пробел.\n",
        " \n",
        "\n",
        "Примечание 1. Для разделения строки на отдельные элементы используйте функцию split()\n",
        "\n",
        "Примечание 2. В качестве разделителя между целой и дробной частью используйте точку, например 0.2"
      ]
    },
    {
      "cell_type": "code",
      "metadata": {
        "id": "6sxlcLbVlrjl",
        "colab": {
          "base_uri": "https://localhost:8080/"
        },
        "outputId": "3c68018a-f317-47c3-f6e4-11a60133cbee"
      },
      "source": [
        "def linan(str1, str2):\n",
        "  a11, a12, b1 = map(int, str1.split())\n",
        "  a21, a22, b2 = map(int, str2.split())\n",
        "  # x=(b1-a12*y)/a11\n",
        "  # x=(b2-a22*y)/a21\n",
        "  if ((a11 * a22 - a12 * a21) != 0):                \n",
        "    y = (b2 * a11 - b1 * a21) / (a11 * a22 - a12 * a21)\n",
        "    if (a11 != 0):\n",
        "      x = (b1 - a12 * y) / a11\n",
        "    elif (a21 != 0):\n",
        "      x = (b2 - a22 * y) / a21\n",
        "    return(round(x, 3), round(y, 3))\n",
        "  else:\n",
        "    print(\"решений нет\")\n",
        "    return  \n",
        "\n",
        "\n",
        "print(linan('2 5 8','5 1 1'))"
      ],
      "execution_count": null,
      "outputs": [
        {
          "output_type": "stream",
          "name": "stdout",
          "text": [
            "(-0.13, 1.652)\n"
          ]
        }
      ]
    },
    {
      "cell_type": "markdown",
      "metadata": {
        "id": "wLoVDMQnfmOv"
      },
      "source": [
        "# Задание 2"
      ]
    },
    {
      "cell_type": "markdown",
      "metadata": {
        "id": "6bmt_YF3fmOw"
      },
      "source": [
        "Напишите функцию `decorate_matrix`, которая получает на вход одно целое число больше единицы. Функция должна возвращать матрицу n на n, у которой на границах стоят единицы, а на всех остальных позициях(если остались позиции не на границах) стоят нули.\n",
        "\n",
        "Нужно сделать без использования  циклов.\n",
        "\n",
        "```\n",
        "# ожидаемый резальтат для аргумента 5\n",
        "array([[1., 1., 1., 1., 1.],\n",
        "[1., 0., 0., 0., 1.],\n",
        "[1., 0., 0., 0., 1.],\n",
        "[1., 0., 0., 0., 1.],\n",
        "[1., 1., 1., 1., 1.]])\n",
        "```\n",
        "\n"
      ]
    },
    {
      "cell_type": "code",
      "source": [
        "import numpy as np\n",
        "\n",
        "def decorate_matrix(size_matrix):\n",
        "  array = np.ones((size_matrix, size_matrix))  # создаем матрицу 10 х 10 с единицами\n",
        "  array[1:-1, 1:-1] = 0                        # обнуляем значения во внутренних ячейках\n",
        "  print(array)\n",
        "\n",
        "\n",
        "decorate_matrix(int(input()))"
      ],
      "metadata": {
        "colab": {
          "base_uri": "https://localhost:8080/"
        },
        "id": "JbfhLTwzzCA-",
        "outputId": "6e3997c9-0ccb-4aaf-8fca-0a65228534ea"
      },
      "execution_count": null,
      "outputs": [
        {
          "output_type": "stream",
          "name": "stdout",
          "text": [
            "5\n",
            "[[1. 1. 1. 1. 1.]\n",
            " [1. 0. 0. 0. 1.]\n",
            " [1. 0. 0. 0. 1.]\n",
            " [1. 0. 0. 0. 1.]\n",
            " [1. 1. 1. 1. 1.]]\n"
          ]
        }
      ]
    },
    {
      "cell_type": "markdown",
      "metadata": {
        "id": "75sxny1zSCbl"
      },
      "source": [
        "# Задание 3"
      ]
    },
    {
      "cell_type": "markdown",
      "metadata": {
        "id": "2Xq1tBBAS5UJ"
      },
      "source": [
        "1) реализуйте 2 функции:\n",
        "\n",
        "$f(x) = (x+a)^2 - b$ \n",
        "\n",
        "$g(x) = |f(x)|$\n",
        "\n",
        "2) Найдите аргументы, при которых достигается минимум функций $f(x)$ и $g(x)$\n",
        "\n",
        "Пример. \n",
        "Входные значение: $a=3$ и $b=4$\n",
        "\n",
        "Выходные значения:\n",
        "\n",
        "`-3.0 -1.0`"
      ]
    },
    {
      "cell_type": "code",
      "source": [
        "import math\n",
        "\n",
        "def minimum_g(a0, b0):\n",
        "  min_g1 = -a0\n",
        "  min_g2 = -a0\n",
        "  if (b0 >= 0):\n",
        "    if (abs((b0 ** 0.5) ** 2 - b0) < abs(-b0)):\n",
        "      min_g1 = -a0 + b0 ** 0.5\n",
        "  return min_g1     \n",
        "\n",
        "def minimum_f_g(a0, b0):\n",
        "  min_f = -a0\n",
        "  min_g1 = minimum_g(a0, b0)\n",
        "  min_g2 = min_g1 + 2 * (min_f - min_g1)\n",
        "  return [min_f, min_g1, min_g2]\n",
        "\n",
        "a = 3.\n",
        "b = 4.  \n",
        "\n",
        "minimum_f_g(a, b)"
      ],
      "metadata": {
        "colab": {
          "base_uri": "https://localhost:8080/"
        },
        "id": "IpOeZBkxZ4LE",
        "outputId": "78076be9-a3d4-4552-fe3f-7932b0b8dbde"
      },
      "execution_count": null,
      "outputs": [
        {
          "output_type": "execute_result",
          "data": {
            "text/plain": [
              "[-3.0, -1.0, -5.0]"
            ]
          },
          "metadata": {},
          "execution_count": 3
        }
      ]
    },
    {
      "cell_type": "markdown",
      "metadata": {
        "id": "efml9GzISC9Q"
      },
      "source": [
        "# Задание 4"
      ]
    },
    {
      "cell_type": "markdown",
      "metadata": {
        "id": "SDZvKcsTVbAW"
      },
      "source": [
        "Постройте графики для функций из предыдущего задания и отметьте другим цветом на графиках точки найденных минимумов."
      ]
    },
    {
      "cell_type": "code",
      "source": [
        "import matplotlib.pyplot as plt\n",
        "\n",
        "def f(x):                          # создание функции f(x)\n",
        "  f = float(x + a) ** 2 - b\n",
        "  return f\n",
        "\n",
        "def g(x):                          # создание функции g(x)\n",
        "  g = (abs(f(x)))\n",
        "  return g\n",
        "\n",
        "def add_function(index):\n",
        "  f_x.append(f(index))\n",
        "  g_x.append(g(index))\n",
        "\n",
        "f_x = []                           # массивы для построения графиков\n",
        "i_x = []\n",
        "g_x = []\n",
        "\n",
        "for index in range(-15, 15, 1):\n",
        "  i_x.append(index)\n",
        "  add_function(index)\n",
        "\n",
        "plt.plot(i_x, f_x, color='b', label='f(x)')               # синий\n",
        "\n",
        "plt.plot(i_x, g_x, color='m', label='g(x)')               # малиновый\n",
        "\n",
        "plt.plot([minimum_f_g(a, b)[0], minimum_f_g(a, b)[1], minimum_f_g(a, b)[2]],             # точки красные\n",
        "         [f(minimum_f_g(a, b)[0]), g(minimum_f_g(a, b)[1]), g(minimum_f_g(a, b)[2])],\n",
        "         'ro')\n",
        "\n",
        "plt.ylabel(\"y\")\n",
        "plt.xlabel(\"x\")\n",
        "plt.legend()\n",
        "plt.show()"
      ],
      "metadata": {
        "colab": {
          "base_uri": "https://localhost:8080/",
          "height": 279
        },
        "id": "4m8qqYx5AW_i",
        "outputId": "f58a4fdb-d97d-424e-8215-a814afbb20eb"
      },
      "execution_count": null,
      "outputs": [
        {
          "output_type": "display_data",
          "data": {
            "text/plain": [
              "<Figure size 432x288 with 1 Axes>"
            ],
            "image/png": "[encoded data removed]"
          },
          "metadata": {
            "needs_background": "light"
          }
        }
      ]
    },
    {
      "cell_type": "markdown",
      "metadata": {
        "id": "mrby3EfiSDKJ"
      },
      "source": [
        "# Задание 5 (Бернулли)"
      ]
    },
    {
      "cell_type": "markdown",
      "metadata": {
        "id": "J6AZ8785VkQd"
      },
      "source": [
        "1000 человек бросают монетку. Каждый бросил 10 раз подряд.\n",
        "\n",
        " 1. Какова вероятность того, что хотя бы у одного человека монетка выпала 10 раз подряд той же самой стороной (орлом или решкой)? \n",
        " 2. Какова вероятность того, что хотя бы у одного человека монетка выпала 8 раз подряд той же самой стороной (орлом или решкой)? \n",
        " 3. Какова вероятность того, что ровно у троих человек из 1000 монетка выпала 10 раз подряд той же самой стороной (орлом или решкой)?"
      ]
    },
    {
      "cell_type": "code",
      "source": [
        "def sum_bernulli(n, k, p):                 # p - вероятность благоприятного события                                        \n",
        "  res = 0\n",
        "  k_i = k[0]\n",
        "  for i in range(k[0], k[1]):\n",
        "    res = res + c(n, k_i) * (p ** k_i) * ((1 - p) ** (n - k_i))\n",
        "    k_i = k_i + 1\n",
        "  return res\n",
        "\n",
        "def p_bernulli(n, k, p):\n",
        "  return sum_bernulli(n, [k, k + 1], p)\n",
        "\n",
        "def c(n, k):\n",
        "  return math.factorial(n) / (math.factorial(k) * math.factorial(n - k))\n",
        "\n",
        "# 0.5 - вероятность выпадания орла\\решки, \n",
        "# степень - столько раз должна выпасть одной и той же стороной \n",
        "# (степень меньше на 1 тк идет домножение на 2, так как устраивает, как и орел так и решка),\n",
        "# вторым аргументом мы передаем диапазон \"количества\" людей, которые удовлетворяют условиям\n",
        "\n",
        "print(\"Хотя бы у 1 монетка выпала 10 раз подряд одной и той же стороной: \", round(sum_bernulli(1000, [1, 1001], 0.5 ** 9), 3)) \n",
        "print(\"Хотя бы у 1 монетка выпала ровно 8 раз подряд одной и той же стороной: \", round(sum_bernulli(1000, [1, 1001], p_bernulli(10, 8, 0.5)), 3))\n",
        "print(\"Ровно у 3 из 1000 монетка выпала 10 раз подряд одной и той же стороной: \", round(p_bernulli(1000, 3, 0.5 ** 9), 3))"
      ],
      "metadata": {
        "colab": {
          "base_uri": "https://localhost:8080/"
        },
        "id": "tSG3kAe5LFyz",
        "outputId": "22e39f53-e0c5-4354-d03a-d8bb5fb2efc8"
      },
      "execution_count": null,
      "outputs": [
        {
          "output_type": "stream",
          "name": "stdout",
          "text": [
            "Хотя бы у 1 монетка выпала 10 раз подряд одной и той же стороной:  0.858\n",
            "Хотя бы у 1 монетка выпала ровно 8 раз подряд одной и той же стороной:  1.0\n",
            "Ровно у 3 из 1000 монетка выпала 10 раз подряд одной и той же стороной:  0.176\n"
          ]
        }
      ]
    }
  ]
}