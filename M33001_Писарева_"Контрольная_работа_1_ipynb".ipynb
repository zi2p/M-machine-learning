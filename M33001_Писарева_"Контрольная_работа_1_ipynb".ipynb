{
  "nbformat": 4,
  "nbformat_minor": 0,
  "metadata": {
    "kernelspec": {
      "display_name": "Python 3",
      "language": "python",
      "name": "python3"
    },
    "language_info": {
      "codemirror_mode": {
        "name": "ipython",
        "version": 3
      },
      "file_extension": ".py",
      "mimetype": "text/x-python",
      "name": "python",
      "nbconvert_exporter": "python",
      "pygments_lexer": "ipython3",
      "version": "3.6.5"
    },
    "toc": {
      "base_numbering": 1,
      "nav_menu": {},
      "number_sections": true,
      "sideBar": true,
      "skip_h1_title": false,
      "title_cell": "Table of Contents",
      "title_sidebar": "Contents",
      "toc_cell": false,
      "toc_position": {},
      "toc_section_display": true,
      "toc_window_display": false
    },
    "colab": {
      "provenance": [],
      "collapsed_sections": [
        "pJyxgxErLqbg",
        "y8BB5t5DLqb8",
        "RQS6gBO1Lqc5"
      ],
      "include_colab_link": true
    }
  },
  "cells": [
    {
      "cell_type": "markdown",
      "metadata": {
        "id": "view-in-github",
        "colab_type": "text"
      },
      "source": [
        "<a href=\"https://colab.research.google.com/github/zi2p/M-machine-learning/blob/main/M33001_%D0%9F%D0%B8%D1%81%D0%B0%D1%80%D0%B5%D0%B2%D0%B0_%22%D0%9A%D0%BE%D0%BD%D1%82%D1%80%D0%BE%D0%BB%D1%8C%D0%BD%D0%B0%D1%8F_%D1%80%D0%B0%D0%B1%D0%BE%D1%82%D0%B0_1_ipynb%22.ipynb\" target=\"_parent\"><img src=\"https://colab.research.google.com/assets/colab-badge.svg\" alt=\"Open In Colab\"/></a>"
      ]
    },
    {
      "cell_type": "markdown",
      "metadata": {
        "id": "LYKqDli0Lqas"
      },
      "source": [
        "# Рубежная контрольная работа\n",
        "\n",
        "*Эту работу выполнять не обязательно. Баллы, набранные за эту контрольную работу просуммируются с баллами, которые будут набраны за контрольную работу 2 и выставлены как оценка за экзамен \"автоматом\". Если вы не выполните эту работу, переписать её будет невозможно, просто приходите на экзамен и добирайте баллы там.*"
      ]
    },
    {
      "cell_type": "markdown",
      "metadata": {
        "id": "Cdt8kOfu4K3x"
      },
      "source": [
        "Сделайте копию ноутбука\n",
        "\n",
        "Присвойте переменной `v` свой табельный номер ИСУ, это нужно для определения вашего варианта. Запустите код в следующей ячейке."
      ]
    },
    {
      "cell_type": "code",
      "metadata": {
        "id": "38Ryn8pjvYqb",
        "colab": {
          "base_uri": "https://localhost:8080/"
        },
        "outputId": "84a82212-4425-4fbe-94c2-32734cd37571"
      },
      "source": [
        "from datetime import datetime\n",
        "current_datetime = datetime.now()\n",
        "print(current_datetime)\n",
        "v = 311525 # по умолчанию вписан мой номер"
      ],
      "execution_count": null,
      "outputs": [
        {
          "output_type": "stream",
          "name": "stdout",
          "text": [
            "2022-10-24 08:54:07.744748\n"
          ]
        }
      ]
    },
    {
      "cell_type": "markdown",
      "metadata": {
        "id": "Qr0CAgObPOv7"
      },
      "source": [
        "## Описание метрического алгоритма"
      ]
    },
    {
      "cell_type": "markdown",
      "metadata": {
        "id": "OFP_i1F1Lqay"
      },
      "source": [
        "Пусть задана обучающая выборка пар \"объект-ответ\" $X^m = \\{(x_1,y_1),\\dots,(x_m,y_m)\\}.$\n",
        "\n",
        "Пусть на множестве объектов задана функция расстояния $\\rho(x,x')$. Чем больше значение этой функции, тем менее схожими являются два объекта $x, x'$. \n",
        "В простейшем случае используется евклидова метрика: $\\rho(x,x') = \\sqrt {\\sum _{i=1}^{n}(x_{i}-x'_{i})^{2}}$,\n",
        "\n",
        "Для произвольного объекта $u$ расположим объекты обучающей выборки $x_i$ в порядке возрастания расстояний до $u$:\n",
        "\n",
        "$$\\rho(u,x_{1; u}) \\leq  \\rho(u,x_{2; u}) \\leq \\cdots \\leq \\rho(u,x_{m; u}),$$\n",
        "где через $x_{i; u}$ обозначается тот объект обучающей выборки, который является $i$-м соседом объекта $u$. Аналогичное обозначение введём и для ответа на $i$-м соседе: $y_{i; u}$. Таким образом, произвольный объект $u$ порождает свою перенумерацию выборки. В наиболее общем виде алгоритм ближайших соседей есть:\n",
        "$$a(u) = \\mathrm{arg}\\max_{y\\in Y} \\sum_{i=1}^m \\bigl[ y_{i; u}=y \\bigr] w(i,u),$$\n",
        "где $w(i,u)$ - заданная весовая функция, которая оценивает степень важности $i$-го соседа для классификации объекта $u$. Естественно полагать, что эта функция не отрицательна и не возрастает по $i$ (поскольку чем дальше объект, тем меньший вклад он должен вносить в пользу своего класса).\n",
        "\n",
        "По-разному задавая весовую функцию, можно получать различные варианты метода ближайших соседей.\n",
        "\n",
        "$w(i,u) = [i=1]$ - простейший метод ближайшего соседа;\n",
        "\n",
        "$w(i,u) = [i\\leq k]$ - метод $k$ ближайших соседей;\n",
        "\n",
        "$w(i,u) = [i\\leq k] q^i$ - метод $k$ экспоненциально взвешенных ближайших соседей, где предполагается константа $q < 1$\n",
        "\n",
        "\n"
      ]
    },
    {
      "cell_type": "markdown",
      "metadata": {
        "id": "9O9wv47JPzIf"
      },
      "source": [
        "**Использование ядер сглаживания**\n",
        "\n",
        "Для избежания неоднозначности ответа при классификации в качестве весовой функции $w(i, u)$ используют функцию ядра $K(r)$\n",
        "\n",
        "Примеры ядер:\n",
        "\n",
        "Triangular: ${\\displaystyle K(r)=(1-|r|)}$,\n",
        "\n",
        "Parabolic: ${\\displaystyle K(r)={\\frac {3}{4}}(1-r^{2})}$,\n",
        "\n",
        "Tricube: ${\\displaystyle K(r)={\\frac {70}{81}}(1-{\\left|r\\right|}^{3})^{3}}$.\n",
        "\n",
        "**Метод парзеновского окна**\n",
        "\n",
        "Алгоритм $k$ ближайших соседей можно обобщить с помощью функции ядра. Рассмотрим два способа, которыми это можно сделать.\n",
        "\n",
        "Метод парзеновского окна фиксированной ширины  $h$:\n",
        "$$w(i,u) = K\\biggl(\\frac{\\rho(u,x_{i; u})}{h}\\biggr)$$\n",
        "\n",
        "Метод парзеновского окна переменной ширины:\n",
        "$$w(i,u) = K\\biggl(\\frac{\\rho(u,x_{i; u})}{\\rho(u,x_{k+1; u})}\\biggr)$$\n",
        "\n",
        "Таким образом классификаторы, полученные при использовании этих методов, можно записать в следующем виде\n",
        "\n",
        "Фиксированной ширины: $$a_h = a(u, X^m, \\boldsymbol{h}, K) = \\mathrm{arg}\\max_{y\\in Y} \\sum_{i=1}^m \\bigl[ y_{i; u}=y \\bigr] K\\biggl(\\frac{\\rho(u,x_{i; u})}{h}\\biggr)$$\n",
        "\n",
        "Переменной ширины (фиксированное число соседей): \n",
        "$$a_k = a(u, X^m, \\boldsymbol{k}, K) = \\mathrm{arg}\\max_{y\\in Y} \\sum_{i=1}^m \\bigl[ y_{i; u}=y \\bigr] K\\biggl(\\frac{\\rho(u,x_{i; u})}{\\rho(u,x_{k+1; u})}\\biggr)$$\n"
      ]
    },
    {
      "cell_type": "markdown",
      "metadata": {
        "id": "QChjKJIRPWty"
      },
      "source": [
        "## Задание 1 (7 баллов)\n",
        "\n",
        "В задании требуется написать свою реализацию метрического алгоритма. \n",
        "\n",
        "В качестве расстояния между объектами в этом задании используйте евклидово расстояние. \n",
        "\n",
        "В качестве функции ядра используйте Parabolic."
      ]
    },
    {
      "cell_type": "code",
      "source": [
        "import numpy as np\n",
        "import pandas as pd"
      ],
      "metadata": {
        "id": "8Vqo7AtROZNm"
      },
      "execution_count": null,
      "outputs": []
    },
    {
      "cell_type": "code",
      "source": [
        "def efk_distans(x, dx):\n",
        "  return np.sqrt(sum((x-dx)**2))"
      ],
      "metadata": {
        "id": "NqAVqJq3NylN"
      },
      "execution_count": null,
      "outputs": []
    },
    {
      "cell_type": "markdown",
      "source": [
        "![image.png](data:image/png;base64,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)"
      ],
      "metadata": {
        "id": "ur7AZnXYR1Li"
      }
    },
    {
      "cell_type": "markdown",
      "source": [
        "У меня выпал вариант с НЕфиксированным гиперпараметром h. Поэтому будем его передавать."
      ],
      "metadata": {
        "id": "SsjRGN9PX0WI"
      }
    },
    {
      "cell_type": "code",
      "source": [
        "from mmap import PROT_READ\n",
        "class metriX:\n",
        "    def H(self, h):\n",
        "        self.h = h\n",
        "        \n",
        "    def fit(self, x, y):\n",
        "        self.X_train = x\n",
        "        self.y_train = y\n",
        "    \n",
        "    def K(self, r):\n",
        "      return (3/4) * (1 - (r ** 2))\n",
        "\n",
        "    def ro(self, test):\n",
        "        result = []\n",
        "        for i in range(len(test)):\n",
        "            ro_efk_distans = []\n",
        "            for j in range(len(X_train)):\n",
        "                dist = self.K(self,(efk_distans(X_train[j] , test[i])))\n",
        "                ro_efk_distans.append([j,dist])\n",
        "            ro_efk_distans.sort()\n",
        "            ro_efk_distans = ro_efk_distans[0:self.h]\n",
        "            result.append(ro_efk_distans)\n",
        "        return result\n",
        "\n",
        "    def predicts(self,test):\n",
        "        pred = []\n",
        "        for i in range(len(test)):\n",
        "            ro = []\n",
        "            labl = []\n",
        "            for j in range(len(X_train)):\n",
        "                dist = self.K(self,(efk_distans(X_train[j] , test[i])))\n",
        "                ro.append([dist, j])\n",
        "            ro.sort()\n",
        "            ro = ro[0:self.h]\n",
        "            for ro, j in ro:\n",
        "                labl.append(y_train[j])\n",
        "            ans = Counter(labl).most_common(1)[0][0]\n",
        "            pred.append(ans)\n",
        "        return pred   "
      ],
      "metadata": {
        "id": "hRcoUeA9R-Em"
      },
      "execution_count": null,
      "outputs": []
    },
    {
      "cell_type": "code",
      "source": [
        "from sklearn.metrics import accuracy_score\n",
        "from collections import Counter"
      ],
      "metadata": {
        "id": "fOaesMcQYrtr"
      },
      "execution_count": null,
      "outputs": []
    },
    {
      "cell_type": "markdown",
      "metadata": {
        "id": "F57T22yav-gp"
      },
      "source": [
        "Для выбора варианта, запустите код в следующей ячейке\n",
        "\n"
      ]
    },
    {
      "cell_type": "code",
      "metadata": {
        "id": "zFcuNXzcwMbH",
        "colab": {
          "base_uri": "https://localhost:8080/"
        },
        "outputId": "50f11cd1-7f27-4a9f-b9a4-1fad60754455"
      },
      "source": [
        "if (int(str(v)[3]) % 2) == 0:\n",
        "  print ('1.1 В алгоритме число соседей должно быть фиксированным. Настроить гиперпараметр k, для оценки качества использовать F1-меру')\n",
        "else:\n",
        "  print ('1.1 В алгоритме число соседей не должно быть фиксированным. Настроить гиперпараметр h (ширина окна), для оценки качества использовать использовать accuracy')\n",
        "\n",
        "if (int(str(v)[3]) % 2) == 0:\n",
        "  print ('1.2 Построить график зависимости метрики качества на обучающей выборке от k')\n",
        "else: \n",
        "  print ('1.2 Построить график зависимости метрики качества на контрольной выборке от h')"
      ],
      "execution_count": null,
      "outputs": [
        {
          "output_type": "stream",
          "name": "stdout",
          "text": [
            "1.1 В алгоритме число соседей не должно быть фиксированным. Настроить гиперпараметр h (ширина окна), для оценки качества использовать использовать accuracy\n",
            "1.2 Построить график зависимости метрики качества на контрольной выборке от h\n"
          ]
        }
      ]
    },
    {
      "cell_type": "markdown",
      "metadata": {
        "id": "ms_1FH-3S_7E"
      },
      "source": [
        "Протестирйуте эту реализацию на наборе данных breast_cancer:\n",
        "\n",
        "https://scikit-learn.org/stable/modules/generated/sklearn.datasets.load_breast_cancer.html"
      ]
    },
    {
      "cell_type": "code",
      "metadata": {
        "id": "gHGUZu8rLqa8"
      },
      "source": [
        "from sklearn.datasets import load_breast_cancer\n",
        "data = load_breast_cancer()"
      ],
      "execution_count": null,
      "outputs": []
    },
    {
      "cell_type": "code",
      "source": [
        "data_fr = pd.DataFrame(data.data,columns=data.feature_names)\n",
        "data_fr"
      ],
      "metadata": {
        "colab": {
          "base_uri": "https://localhost:8080/",
          "height": 522
        },
        "id": "0gEl33GKU95w",
        "outputId": "7b1b11fa-55c8-4fc4-e509-a1e1e51a776c"
      },
      "execution_count": null,
      "outputs": [
        {
          "output_type": "execute_result",
          "data": {
            "text/plain": [
              "     mean radius  mean texture  mean perimeter  mean area  mean smoothness  \\\n",
              "0          17.99         10.38          122.80     1001.0          0.11840   \n",
              "1          20.57         17.77          132.90     1326.0          0.08474   \n",
              "2          19.69         21.25          130.00     1203.0          0.10960   \n",
              "3          11.42         20.38           77.58      386.1          0.14250   \n",
              "4          20.29         14.34          135.10     1297.0          0.10030   \n",
              "..           ...           ...             ...        ...              ...   \n",
              "564        21.56         22.39          142.00     1479.0          0.11100   \n",
              "565        20.13         28.25          131.20     1261.0          0.09780   \n",
              "566        16.60         28.08          108.30      858.1          0.08455   \n",
              "567        20.60         29.33          140.10     1265.0          0.11780   \n",
              "568         7.76         24.54           47.92      181.0          0.05263   \n",
              "\n",
              "     mean compactness  mean concavity  mean concave points  mean symmetry  \\\n",
              "0             0.27760         0.30010              0.14710         0.2419   \n",
              "1             0.07864         0.08690              0.07017         0.1812   \n",
              "2             0.15990         0.19740              0.12790         0.2069   \n",
              "3             0.28390         0.24140              0.10520         0.2597   \n",
              "4             0.13280         0.19800              0.10430         0.1809   \n",
              "..                ...             ...                  ...            ...   \n",
              "564           0.11590         0.24390              0.13890         0.1726   \n",
              "565           0.10340         0.14400              0.09791         0.1752   \n",
              "566           0.10230         0.09251              0.05302         0.1590   \n",
              "567           0.27700         0.35140              0.15200         0.2397   \n",
              "568           0.04362         0.00000              0.00000         0.1587   \n",
              "\n",
              "     mean fractal dimension  ...  worst radius  worst texture  \\\n",
              "0                   0.07871  ...        25.380          17.33   \n",
              "1                   0.05667  ...        24.990          23.41   \n",
              "2                   0.05999  ...        23.570          25.53   \n",
              "3                   0.09744  ...        14.910          26.50   \n",
              "4                   0.05883  ...        22.540          16.67   \n",
              "..                      ...  ...           ...            ...   \n",
              "564                 0.05623  ...        25.450          26.40   \n",
              "565                 0.05533  ...        23.690          38.25   \n",
              "566                 0.05648  ...        18.980          34.12   \n",
              "567                 0.07016  ...        25.740          39.42   \n",
              "568                 0.05884  ...         9.456          30.37   \n",
              "\n",
              "     worst perimeter  worst area  worst smoothness  worst compactness  \\\n",
              "0             184.60      2019.0           0.16220            0.66560   \n",
              "1             158.80      1956.0           0.12380            0.18660   \n",
              "2             152.50      1709.0           0.14440            0.42450   \n",
              "3              98.87       567.7           0.20980            0.86630   \n",
              "4             152.20      1575.0           0.13740            0.20500   \n",
              "..               ...         ...               ...                ...   \n",
              "564           166.10      2027.0           0.14100            0.21130   \n",
              "565           155.00      1731.0           0.11660            0.19220   \n",
              "566           126.70      1124.0           0.11390            0.30940   \n",
              "567           184.60      1821.0           0.16500            0.86810   \n",
              "568            59.16       268.6           0.08996            0.06444   \n",
              "\n",
              "     worst concavity  worst concave points  worst symmetry  \\\n",
              "0             0.7119                0.2654          0.4601   \n",
              "1             0.2416                0.1860          0.2750   \n",
              "2             0.4504                0.2430          0.3613   \n",
              "3             0.6869                0.2575          0.6638   \n",
              "4             0.4000                0.1625          0.2364   \n",
              "..               ...                   ...             ...   \n",
              "564           0.4107                0.2216          0.2060   \n",
              "565           0.3215                0.1628          0.2572   \n",
              "566           0.3403                0.1418          0.2218   \n",
              "567           0.9387                0.2650          0.4087   \n",
              "568           0.0000                0.0000          0.2871   \n",
              "\n",
              "     worst fractal dimension  \n",
              "0                    0.11890  \n",
              "1                    0.08902  \n",
              "2                    0.08758  \n",
              "3                    0.17300  \n",
              "4                    0.07678  \n",
              "..                       ...  \n",
              "564                  0.07115  \n",
              "565                  0.06637  \n",
              "566                  0.07820  \n",
              "567                  0.12400  \n",
              "568                  0.07039  \n",
              "\n",
              "[569 rows x 30 columns]"
            ],
            "text/html": [
              "\n",
              "  <div id=\"df-5c901111-df3e-43ad-bb6b-b21e0b5d5424\">\n",
              "    <div class=\"colab-df-container\">\n",
              "      <div>\n",
              "<style scoped>\n",
              "    .dataframe tbody tr th:only-of-type {\n",
              "        vertical-align: middle;\n",
              "    }\n",
              "\n",
              "    .dataframe tbody tr th {\n",
              "        vertical-align: top;\n",
              "    }\n",
              "\n",
              "    .dataframe thead th {\n",
              "        text-align: right;\n",
              "    }\n",
              "</style>\n",
              "<table border=\"1\" class=\"dataframe\">\n",
              "  <thead>\n",
              "    <tr style=\"text-align: right;\">\n",
              "      <th></th>\n",
              "      <th>mean radius</th>\n",
              "      <th>mean texture</th>\n",
              "      <th>mean perimeter</th>\n",
              "      <th>mean area</th>\n",
              "      <th>mean smoothness</th>\n",
              "      <th>mean compactness</th>\n",
              "      <th>mean concavity</th>\n",
              "      <th>mean concave points</th>\n",
              "      <th>mean symmetry</th>\n",
              "      <th>mean fractal dimension</th>\n",
              "      <th>...</th>\n",
              "      <th>worst radius</th>\n",
              "      <th>worst texture</th>\n",
              "      <th>worst perimeter</th>\n",
              "      <th>worst area</th>\n",
              "      <th>worst smoothness</th>\n",
              "      <th>worst compactness</th>\n",
              "      <th>worst concavity</th>\n",
              "      <th>worst concave points</th>\n",
              "      <th>worst symmetry</th>\n",
              "      <th>worst fractal dimension</th>\n",
              "    </tr>\n",
              "  </thead>\n",
              "  <tbody>\n",
              "    <tr>\n",
              "      <th>0</th>\n",
              "      <td>17.99</td>\n",
              "      <td>10.38</td>\n",
              "      <td>122.80</td>\n",
              "      <td>1001.0</td>\n",
              "      <td>0.11840</td>\n",
              "      <td>0.27760</td>\n",
              "      <td>0.30010</td>\n",
              "      <td>0.14710</td>\n",
              "      <td>0.2419</td>\n",
              "      <td>0.07871</td>\n",
              "      <td>...</td>\n",
              "      <td>25.380</td>\n",
              "      <td>17.33</td>\n",
              "      <td>184.60</td>\n",
              "      <td>2019.0</td>\n",
              "      <td>0.16220</td>\n",
              "      <td>0.66560</td>\n",
              "      <td>0.7119</td>\n",
              "      <td>0.2654</td>\n",
              "      <td>0.4601</td>\n",
              "      <td>0.11890</td>\n",
              "    </tr>\n",
              "    <tr>\n",
              "      <th>1</th>\n",
              "      <td>20.57</td>\n",
              "      <td>17.77</td>\n",
              "      <td>132.90</td>\n",
              "      <td>1326.0</td>\n",
              "      <td>0.08474</td>\n",
              "      <td>0.07864</td>\n",
              "      <td>0.08690</td>\n",
              "      <td>0.07017</td>\n",
              "      <td>0.1812</td>\n",
              "      <td>0.05667</td>\n",
              "      <td>...</td>\n",
              "      <td>24.990</td>\n",
              "      <td>23.41</td>\n",
              "      <td>158.80</td>\n",
              "      <td>1956.0</td>\n",
              "      <td>0.12380</td>\n",
              "      <td>0.18660</td>\n",
              "      <td>0.2416</td>\n",
              "      <td>0.1860</td>\n",
              "      <td>0.2750</td>\n",
              "      <td>0.08902</td>\n",
              "    </tr>\n",
              "    <tr>\n",
              "      <th>2</th>\n",
              "      <td>19.69</td>\n",
              "      <td>21.25</td>\n",
              "      <td>130.00</td>\n",
              "      <td>1203.0</td>\n",
              "      <td>0.10960</td>\n",
              "      <td>0.15990</td>\n",
              "      <td>0.19740</td>\n",
              "      <td>0.12790</td>\n",
              "      <td>0.2069</td>\n",
              "      <td>0.05999</td>\n",
              "      <td>...</td>\n",
              "      <td>23.570</td>\n",
              "      <td>25.53</td>\n",
              "      <td>152.50</td>\n",
              "      <td>1709.0</td>\n",
              "      <td>0.14440</td>\n",
              "      <td>0.42450</td>\n",
              "      <td>0.4504</td>\n",
              "      <td>0.2430</td>\n",
              "      <td>0.3613</td>\n",
              "      <td>0.08758</td>\n",
              "    </tr>\n",
              "    <tr>\n",
              "      <th>3</th>\n",
              "      <td>11.42</td>\n",
              "      <td>20.38</td>\n",
              "      <td>77.58</td>\n",
              "      <td>386.1</td>\n",
              "      <td>0.14250</td>\n",
              "      <td>0.28390</td>\n",
              "      <td>0.24140</td>\n",
              "      <td>0.10520</td>\n",
              "      <td>0.2597</td>\n",
              "      <td>0.09744</td>\n",
              "      <td>...</td>\n",
              "      <td>14.910</td>\n",
              "      <td>26.50</td>\n",
              "      <td>98.87</td>\n",
              "      <td>567.7</td>\n",
              "      <td>0.20980</td>\n",
              "      <td>0.86630</td>\n",
              "      <td>0.6869</td>\n",
              "      <td>0.2575</td>\n",
              "      <td>0.6638</td>\n",
              "      <td>0.17300</td>\n",
              "    </tr>\n",
              "    <tr>\n",
              "      <th>4</th>\n",
              "      <td>20.29</td>\n",
              "      <td>14.34</td>\n",
              "      <td>135.10</td>\n",
              "      <td>1297.0</td>\n",
              "      <td>0.10030</td>\n",
              "      <td>0.13280</td>\n",
              "      <td>0.19800</td>\n",
              "      <td>0.10430</td>\n",
              "      <td>0.1809</td>\n",
              "      <td>0.05883</td>\n",
              "      <td>...</td>\n",
              "      <td>22.540</td>\n",
              "      <td>16.67</td>\n",
              "      <td>152.20</td>\n",
              "      <td>1575.0</td>\n",
              "      <td>0.13740</td>\n",
              "      <td>0.20500</td>\n",
              "      <td>0.4000</td>\n",
              "      <td>0.1625</td>\n",
              "      <td>0.2364</td>\n",
              "      <td>0.07678</td>\n",
              "    </tr>\n",
              "    <tr>\n",
              "      <th>...</th>\n",
              "      <td>...</td>\n",
              "      <td>...</td>\n",
              "      <td>...</td>\n",
              "      <td>...</td>\n",
              "      <td>...</td>\n",
              "      <td>...</td>\n",
              "      <td>...</td>\n",
              "      <td>...</td>\n",
              "      <td>...</td>\n",
              "      <td>...</td>\n",
              "      <td>...</td>\n",
              "      <td>...</td>\n",
              "      <td>...</td>\n",
              "      <td>...</td>\n",
              "      <td>...</td>\n",
              "      <td>...</td>\n",
              "      <td>...</td>\n",
              "      <td>...</td>\n",
              "      <td>...</td>\n",
              "      <td>...</td>\n",
              "      <td>...</td>\n",
              "    </tr>\n",
              "    <tr>\n",
              "      <th>564</th>\n",
              "      <td>21.56</td>\n",
              "      <td>22.39</td>\n",
              "      <td>142.00</td>\n",
              "      <td>1479.0</td>\n",
              "      <td>0.11100</td>\n",
              "      <td>0.11590</td>\n",
              "      <td>0.24390</td>\n",
              "      <td>0.13890</td>\n",
              "      <td>0.1726</td>\n",
              "      <td>0.05623</td>\n",
              "      <td>...</td>\n",
              "      <td>25.450</td>\n",
              "      <td>26.40</td>\n",
              "      <td>166.10</td>\n",
              "      <td>2027.0</td>\n",
              "      <td>0.14100</td>\n",
              "      <td>0.21130</td>\n",
              "      <td>0.4107</td>\n",
              "      <td>0.2216</td>\n",
              "      <td>0.2060</td>\n",
              "      <td>0.07115</td>\n",
              "    </tr>\n",
              "    <tr>\n",
              "      <th>565</th>\n",
              "      <td>20.13</td>\n",
              "      <td>28.25</td>\n",
              "      <td>131.20</td>\n",
              "      <td>1261.0</td>\n",
              "      <td>0.09780</td>\n",
              "      <td>0.10340</td>\n",
              "      <td>0.14400</td>\n",
              "      <td>0.09791</td>\n",
              "      <td>0.1752</td>\n",
              "      <td>0.05533</td>\n",
              "      <td>...</td>\n",
              "      <td>23.690</td>\n",
              "      <td>38.25</td>\n",
              "      <td>155.00</td>\n",
              "      <td>1731.0</td>\n",
              "      <td>0.11660</td>\n",
              "      <td>0.19220</td>\n",
              "      <td>0.3215</td>\n",
              "      <td>0.1628</td>\n",
              "      <td>0.2572</td>\n",
              "      <td>0.06637</td>\n",
              "    </tr>\n",
              "    <tr>\n",
              "      <th>566</th>\n",
              "      <td>16.60</td>\n",
              "      <td>28.08</td>\n",
              "      <td>108.30</td>\n",
              "      <td>858.1</td>\n",
              "      <td>0.08455</td>\n",
              "      <td>0.10230</td>\n",
              "      <td>0.09251</td>\n",
              "      <td>0.05302</td>\n",
              "      <td>0.1590</td>\n",
              "      <td>0.05648</td>\n",
              "      <td>...</td>\n",
              "      <td>18.980</td>\n",
              "      <td>34.12</td>\n",
              "      <td>126.70</td>\n",
              "      <td>1124.0</td>\n",
              "      <td>0.11390</td>\n",
              "      <td>0.30940</td>\n",
              "      <td>0.3403</td>\n",
              "      <td>0.1418</td>\n",
              "      <td>0.2218</td>\n",
              "      <td>0.07820</td>\n",
              "    </tr>\n",
              "    <tr>\n",
              "      <th>567</th>\n",
              "      <td>20.60</td>\n",
              "      <td>29.33</td>\n",
              "      <td>140.10</td>\n",
              "      <td>1265.0</td>\n",
              "      <td>0.11780</td>\n",
              "      <td>0.27700</td>\n",
              "      <td>0.35140</td>\n",
              "      <td>0.15200</td>\n",
              "      <td>0.2397</td>\n",
              "      <td>0.07016</td>\n",
              "      <td>...</td>\n",
              "      <td>25.740</td>\n",
              "      <td>39.42</td>\n",
              "      <td>184.60</td>\n",
              "      <td>1821.0</td>\n",
              "      <td>0.16500</td>\n",
              "      <td>0.86810</td>\n",
              "      <td>0.9387</td>\n",
              "      <td>0.2650</td>\n",
              "      <td>0.4087</td>\n",
              "      <td>0.12400</td>\n",
              "    </tr>\n",
              "    <tr>\n",
              "      <th>568</th>\n",
              "      <td>7.76</td>\n",
              "      <td>24.54</td>\n",
              "      <td>47.92</td>\n",
              "      <td>181.0</td>\n",
              "      <td>0.05263</td>\n",
              "      <td>0.04362</td>\n",
              "      <td>0.00000</td>\n",
              "      <td>0.00000</td>\n",
              "      <td>0.1587</td>\n",
              "      <td>0.05884</td>\n",
              "      <td>...</td>\n",
              "      <td>9.456</td>\n",
              "      <td>30.37</td>\n",
              "      <td>59.16</td>\n",
              "      <td>268.6</td>\n",
              "      <td>0.08996</td>\n",
              "      <td>0.06444</td>\n",
              "      <td>0.0000</td>\n",
              "      <td>0.0000</td>\n",
              "      <td>0.2871</td>\n",
              "      <td>0.07039</td>\n",
              "    </tr>\n",
              "  </tbody>\n",
              "</table>\n",
              "<p>569 rows × 30 columns</p>\n",
              "</div>\n",
              "      <button class=\"colab-df-convert\" onclick=\"convertToInteractive('df-5c901111-df3e-43ad-bb6b-b21e0b5d5424')\"\n",
              "              title=\"Convert this dataframe to an interactive table.\"\n",
              "              style=\"display:none;\">\n",
              "        \n",
              "  <svg xmlns=\"http://www.w3.org/2000/svg\" height=\"24px\"viewBox=\"0 0 24 24\"\n",
              "       width=\"24px\">\n",
              "    <path d=\"M0 0h24v24H0V0z\" fill=\"none\"/>\n",
              "    <path d=\"M18.56 5.44l.94 2.06.94-2.06 2.06-.94-2.06-.94-.94-2.06-.94 2.06-2.06.94zm-11 1L8.5 8.5l.94-2.06 2.06-.94-2.06-.94L8.5 2.5l-.94 2.06-2.06.94zm10 10l.94 2.06.94-2.06 2.06-.94-2.06-.94-.94-2.06-.94 2.06-2.06.94z\"/><path d=\"M17.41 7.96l-1.37-1.37c-.4-.4-.92-.59-1.43-.59-.52 0-1.04.2-1.43.59L10.3 9.45l-7.72 7.72c-.78.78-.78 2.05 0 2.83L4 21.41c.39.39.9.59 1.41.59.51 0 1.02-.2 1.41-.59l7.78-7.78 2.81-2.81c.8-.78.8-2.07 0-2.86zM5.41 20L4 18.59l7.72-7.72 1.47 1.35L5.41 20z\"/>\n",
              "  </svg>\n",
              "      </button>\n",
              "      \n",
              "  <style>\n",
              "    .colab-df-container {\n",
              "      display:flex;\n",
              "      flex-wrap:wrap;\n",
              "      gap: 12px;\n",
              "    }\n",
              "\n",
              "    .colab-df-convert {\n",
              "      background-color: #E8F0FE;\n",
              "      border: none;\n",
              "      border-radius: 50%;\n",
              "      cursor: pointer;\n",
              "      display: none;\n",
              "      fill: #1967D2;\n",
              "      height: 32px;\n",
              "      padding: 0 0 0 0;\n",
              "      width: 32px;\n",
              "    }\n",
              "\n",
              "    .colab-df-convert:hover {\n",
              "      background-color: #E2EBFA;\n",
              "      box-shadow: 0px 1px 2px rgba(60, 64, 67, 0.3), 0px 1px 3px 1px rgba(60, 64, 67, 0.15);\n",
              "      fill: #174EA6;\n",
              "    }\n",
              "\n",
              "    [theme=dark] .colab-df-convert {\n",
              "      background-color: #3B4455;\n",
              "      fill: #D2E3FC;\n",
              "    }\n",
              "\n",
              "    [theme=dark] .colab-df-convert:hover {\n",
              "      background-color: #434B5C;\n",
              "      box-shadow: 0px 1px 3px 1px rgba(0, 0, 0, 0.15);\n",
              "      filter: drop-shadow(0px 1px 2px rgba(0, 0, 0, 0.3));\n",
              "      fill: #FFFFFF;\n",
              "    }\n",
              "  </style>\n",
              "\n",
              "      <script>\n",
              "        const buttonEl =\n",
              "          document.querySelector('#df-5c901111-df3e-43ad-bb6b-b21e0b5d5424 button.colab-df-convert');\n",
              "        buttonEl.style.display =\n",
              "          google.colab.kernel.accessAllowed ? 'block' : 'none';\n",
              "\n",
              "        async function convertToInteractive(key) {\n",
              "          const element = document.querySelector('#df-5c901111-df3e-43ad-bb6b-b21e0b5d5424');\n",
              "          const dataTable =\n",
              "            await google.colab.kernel.invokeFunction('convertToInteractive',\n",
              "                                                     [key], {});\n",
              "          if (!dataTable) return;\n",
              "\n",
              "          const docLinkHtml = 'Like what you see? Visit the ' +\n",
              "            '<a target=\"_blank\" href=https://colab.research.google.com/notebooks/data_table.ipynb>data table notebook</a>'\n",
              "            + ' to learn more about interactive tables.';\n",
              "          element.innerHTML = '';\n",
              "          dataTable['output_type'] = 'display_data';\n",
              "          await google.colab.output.renderOutput(dataTable, element);\n",
              "          const docLink = document.createElement('div');\n",
              "          docLink.innerHTML = docLinkHtml;\n",
              "          element.appendChild(docLink);\n",
              "        }\n",
              "      </script>\n",
              "    </div>\n",
              "  </div>\n",
              "  "
            ]
          },
          "metadata": {},
          "execution_count": 14
        }
      ]
    },
    {
      "cell_type": "code",
      "source": [
        "from sklearn.datasets import load_breast_cancer\n",
        "from sklearn.model_selection import train_test_split\n",
        "X_train, X_test, y_train, y_test = train_test_split(data.data, data.target)"
      ],
      "metadata": {
        "id": "gkC1I1WBXIAV"
      },
      "execution_count": null,
      "outputs": []
    },
    {
      "cell_type": "markdown",
      "source": [
        "Может понадобиться предобработка данных"
      ],
      "metadata": {
        "id": "OCpbLbb83bbY"
      }
    },
    {
      "cell_type": "code",
      "source": [
        "# проверим качество\n",
        "\n",
        "MY = metriX\n",
        "MY.H(MY,4)\n",
        "MY.fit(MY,X_train,y_train)\n",
        "RO=MY.ro(MY,y_test)\n",
        "y_predict = MY.predicts(MY,X_test)\n",
        "score = accuracy_score(data.target, y_predict)\n"
      ],
      "metadata": {
        "id": "wudxQpLJZeSa"
      },
      "execution_count": null,
      "outputs": []
    },
    {
      "cell_type": "code",
      "source": [
        "score"
      ],
      "metadata": {
        "colab": {
          "base_uri": "https://localhost:8080/"
        },
        "id": "O-w4wy3PdLz_",
        "outputId": "26466b84-9270-4298-987c-857f60654135"
      },
      "execution_count": null,
      "outputs": [
        {
          "output_type": "execute_result",
          "data": {
            "text/plain": [
              "0.5664335664335665"
            ]
          },
          "metadata": {},
          "execution_count": 44
        }
      ]
    },
    {
      "cell_type": "code",
      "source": [
        "x=[]\n",
        "y=[]\n",
        "for i in range(4,10):\n",
        "  MY = metriX\n",
        "  MY.H(MY,i)\n",
        "  MY.fit(MY,X_train,y_train)\n",
        "  RO=MY.ro(MY,y_test)\n",
        "  y_predict = MY.predicts(MY,X_test)\n",
        "  score = accuracy_score(data.target, y_predict)\n",
        "  y.append(score)\n",
        "  x.append(i)\n",
        "\n"
      ],
      "metadata": {
        "id": "AK8tTyIwdSTr"
      },
      "execution_count": null,
      "outputs": []
    },
    {
      "cell_type": "code",
      "source": [
        "from matplotlib import pyplot as plt\n",
        "\n",
        "plt.scatter(x, y)\n"
      ],
      "metadata": {
        "colab": {
          "base_uri": "https://localhost:8080/",
          "height": 282
        },
        "id": "yKKitnw5eDV5",
        "outputId": "16cc01e2-805e-4b16-afc8-7360327b21bb"
      },
      "execution_count": null,
      "outputs": [
        {
          "output_type": "execute_result",
          "data": {
            "text/plain": [
              "<matplotlib.collections.PathCollection at 0x7fda16a83510>"
            ]
          },
          "metadata": {},
          "execution_count": 49
        },
        {
          "output_type": "display_data",
          "data": {
            "text/plain": [
              "<Figure size 432x288 with 1 Axes>"
            ],
            "image/png": "[encoded data removed]"
          },
          "metadata": {
            "needs_background": "light"
          }
        }
      ]
    },
    {
      "cell_type": "markdown",
      "metadata": {
        "id": "XL9H9vXATHcc"
      },
      "source": [
        "Штрафы:\n",
        "* отсутствие реализации алгоритма (4 балла)\n",
        "* ошибки в реализации алгоритма (2 балла)\n",
        "* отсутствие настройки гиперпараметра (2 балла)\n",
        "* ошибки в настройке гиперпараметра (1 балл)\n",
        "* отсутствие графика (1 балл)"
      ]
    },
    {
      "cell_type": "markdown",
      "metadata": {
        "id": "Mz4rsFhALqbJ"
      },
      "source": [
        "# Задание 2 (4 балла)"
      ]
    },
    {
      "cell_type": "markdown",
      "metadata": {
        "id": "EHdzuZj-3dsF"
      },
      "source": [
        "Требуется реализовать метрический алгоритм для предсказания действительного числа (то есть как в задаче регрессии, а не как в задаче классификации). \n",
        "\n",
        "В задании 2 **не** используйте ядра и метод парзеновского окна."
      ]
    },
    {
      "cell_type": "markdown",
      "metadata": {
        "id": "gOM9Kj8pLqbS"
      },
      "source": [
        "Во этом задании в качестве исходных данных используется словарь кинокритиков и выставленных ими оценок"
      ]
    },
    {
      "cell_type": "code",
      "metadata": {
        "id": "ENkh6Gr98Pit"
      },
      "source": [
        "critics={'Lisa Rose': {'Lady in the Water': 2.5, 'Snakes on a Plane': 3.5,\n",
        " 'Just My Luck': 3.0, 'Superman Returns': 3.5, 'You, Me and Dupree': 2.5, \n",
        " 'The Night Listener': 3.0},\n",
        "'Gene Seymour': {'Lady in the Water': 3.0, 'Snakes on a Plane': 3.5, \n",
        " 'Just My Luck': 1.5, 'Superman Returns': 5.0, 'The Night Listener': 3.0, \n",
        " 'You, Me and Dupree': 3.5}, \n",
        "'Michael Phillips': {'Lady in the Water': 2.5, 'Snakes on a Plane': 3.0,\n",
        " 'Superman Returns': 3.5, 'The Night Listener': 4.0},\n",
        "'Claudia Puig': {'Snakes on a Plane': 3.5, 'Just My Luck': 3.0,\n",
        " 'The Night Listener': 4.5, 'Superman Returns': 4.0, \n",
        " 'You, Me and Dupree': 2.5},\n",
        "'Mick LaSalle': {'Lady in the Water': 3.0, 'Snakes on a Plane': 4.0, \n",
        " 'Just My Luck': 2.0, 'Superman Returns': 3.0, 'The Night Listener': 3.0,\n",
        " 'You, Me and Dupree': 2.0}, \n",
        "'Jack Matthews': {'Lady in the Water': 3.0, 'Snakes on a Plane': 4.0,\n",
        " 'The Night Listener': 3.0, 'Superman Returns': 5.0, 'You, Me and Dupree': 3.5},\n",
        "'Toby': {'Snakes on a Plane':4.5,'You, Me and Dupree':1.0,'Superman Returns':4.0}}"
      ],
      "execution_count": null,
      "outputs": []
    },
    {
      "cell_type": "markdown",
      "metadata": {
        "id": "MVfEyvFj019l"
      },
      "source": [
        "По этому словарю нужно сделать Dataframe в pandas. Строки это критики, столбцы - названия фильмов. На пересечении поставленные оценки. При отсуствии оценки у критика за фильм в датафрейме нужно поставить 0."
      ]
    },
    {
      "cell_type": "code",
      "source": [
        "critics_frame = pd.DataFrame(critics).T.fillna(0)\n",
        "critics_frame"
      ],
      "metadata": {
        "colab": {
          "base_uri": "https://localhost:8080/",
          "height": 269
        },
        "id": "TKjJcN-yQ0D8",
        "outputId": "04d2a86d-5e52-4e4d-94a7-e86cec603656"
      },
      "execution_count": null,
      "outputs": [
        {
          "output_type": "execute_result",
          "data": {
            "text/plain": [
              "                  Lady in the Water  Snakes on a Plane  Just My Luck  \\\n",
              "Lisa Rose                       2.5                3.5           3.0   \n",
              "Gene Seymour                    3.0                3.5           1.5   \n",
              "Michael Phillips                2.5                3.0           0.0   \n",
              "Claudia Puig                    0.0                3.5           3.0   \n",
              "Mick LaSalle                    3.0                4.0           2.0   \n",
              "Jack Matthews                   3.0                4.0           0.0   \n",
              "Toby                            0.0                4.5           0.0   \n",
              "\n",
              "                  Superman Returns  You, Me and Dupree  The Night Listener  \n",
              "Lisa Rose                      3.5                 2.5                 3.0  \n",
              "Gene Seymour                   5.0                 3.5                 3.0  \n",
              "Michael Phillips               3.5                 0.0                 4.0  \n",
              "Claudia Puig                   4.0                 2.5                 4.5  \n",
              "Mick LaSalle                   3.0                 2.0                 3.0  \n",
              "Jack Matthews                  5.0                 3.5                 3.0  \n",
              "Toby                           4.0                 1.0                 0.0  "
            ],
            "text/html": [
              "\n",
              "  <div id=\"df-efbf5597-bb06-4553-9c6d-80eebc312f0f\">\n",
              "    <div class=\"colab-df-container\">\n",
              "      <div>\n",
              "<style scoped>\n",
              "    .dataframe tbody tr th:only-of-type {\n",
              "        vertical-align: middle;\n",
              "    }\n",
              "\n",
              "    .dataframe tbody tr th {\n",
              "        vertical-align: top;\n",
              "    }\n",
              "\n",
              "    .dataframe thead th {\n",
              "        text-align: right;\n",
              "    }\n",
              "</style>\n",
              "<table border=\"1\" class=\"dataframe\">\n",
              "  <thead>\n",
              "    <tr style=\"text-align: right;\">\n",
              "      <th></th>\n",
              "      <th>Lady in the Water</th>\n",
              "      <th>Snakes on a Plane</th>\n",
              "      <th>Just My Luck</th>\n",
              "      <th>Superman Returns</th>\n",
              "      <th>You, Me and Dupree</th>\n",
              "      <th>The Night Listener</th>\n",
              "    </tr>\n",
              "  </thead>\n",
              "  <tbody>\n",
              "    <tr>\n",
              "      <th>Lisa Rose</th>\n",
              "      <td>2.5</td>\n",
              "      <td>3.5</td>\n",
              "      <td>3.0</td>\n",
              "      <td>3.5</td>\n",
              "      <td>2.5</td>\n",
              "      <td>3.0</td>\n",
              "    </tr>\n",
              "    <tr>\n",
              "      <th>Gene Seymour</th>\n",
              "      <td>3.0</td>\n",
              "      <td>3.5</td>\n",
              "      <td>1.5</td>\n",
              "      <td>5.0</td>\n",
              "      <td>3.5</td>\n",
              "      <td>3.0</td>\n",
              "    </tr>\n",
              "    <tr>\n",
              "      <th>Michael Phillips</th>\n",
              "      <td>2.5</td>\n",
              "      <td>3.0</td>\n",
              "      <td>0.0</td>\n",
              "      <td>3.5</td>\n",
              "      <td>0.0</td>\n",
              "      <td>4.0</td>\n",
              "    </tr>\n",
              "    <tr>\n",
              "      <th>Claudia Puig</th>\n",
              "      <td>0.0</td>\n",
              "      <td>3.5</td>\n",
              "      <td>3.0</td>\n",
              "      <td>4.0</td>\n",
              "      <td>2.5</td>\n",
              "      <td>4.5</td>\n",
              "    </tr>\n",
              "    <tr>\n",
              "      <th>Mick LaSalle</th>\n",
              "      <td>3.0</td>\n",
              "      <td>4.0</td>\n",
              "      <td>2.0</td>\n",
              "      <td>3.0</td>\n",
              "      <td>2.0</td>\n",
              "      <td>3.0</td>\n",
              "    </tr>\n",
              "    <tr>\n",
              "      <th>Jack Matthews</th>\n",
              "      <td>3.0</td>\n",
              "      <td>4.0</td>\n",
              "      <td>0.0</td>\n",
              "      <td>5.0</td>\n",
              "      <td>3.5</td>\n",
              "      <td>3.0</td>\n",
              "    </tr>\n",
              "    <tr>\n",
              "      <th>Toby</th>\n",
              "      <td>0.0</td>\n",
              "      <td>4.5</td>\n",
              "      <td>0.0</td>\n",
              "      <td>4.0</td>\n",
              "      <td>1.0</td>\n",
              "      <td>0.0</td>\n",
              "    </tr>\n",
              "  </tbody>\n",
              "</table>\n",
              "</div>\n",
              "      <button class=\"colab-df-convert\" onclick=\"convertToInteractive('df-efbf5597-bb06-4553-9c6d-80eebc312f0f')\"\n",
              "              title=\"Convert this dataframe to an interactive table.\"\n",
              "              style=\"display:none;\">\n",
              "        \n",
              "  <svg xmlns=\"http://www.w3.org/2000/svg\" height=\"24px\"viewBox=\"0 0 24 24\"\n",
              "       width=\"24px\">\n",
              "    <path d=\"M0 0h24v24H0V0z\" fill=\"none\"/>\n",
              "    <path d=\"M18.56 5.44l.94 2.06.94-2.06 2.06-.94-2.06-.94-.94-2.06-.94 2.06-2.06.94zm-11 1L8.5 8.5l.94-2.06 2.06-.94-2.06-.94L8.5 2.5l-.94 2.06-2.06.94zm10 10l.94 2.06.94-2.06 2.06-.94-2.06-.94-.94-2.06-.94 2.06-2.06.94z\"/><path d=\"M17.41 7.96l-1.37-1.37c-.4-.4-.92-.59-1.43-.59-.52 0-1.04.2-1.43.59L10.3 9.45l-7.72 7.72c-.78.78-.78 2.05 0 2.83L4 21.41c.39.39.9.59 1.41.59.51 0 1.02-.2 1.41-.59l7.78-7.78 2.81-2.81c.8-.78.8-2.07 0-2.86zM5.41 20L4 18.59l7.72-7.72 1.47 1.35L5.41 20z\"/>\n",
              "  </svg>\n",
              "      </button>\n",
              "      \n",
              "  <style>\n",
              "    .colab-df-container {\n",
              "      display:flex;\n",
              "      flex-wrap:wrap;\n",
              "      gap: 12px;\n",
              "    }\n",
              "\n",
              "    .colab-df-convert {\n",
              "      background-color: #E8F0FE;\n",
              "      border: none;\n",
              "      border-radius: 50%;\n",
              "      cursor: pointer;\n",
              "      display: none;\n",
              "      fill: #1967D2;\n",
              "      height: 32px;\n",
              "      padding: 0 0 0 0;\n",
              "      width: 32px;\n",
              "    }\n",
              "\n",
              "    .colab-df-convert:hover {\n",
              "      background-color: #E2EBFA;\n",
              "      box-shadow: 0px 1px 2px rgba(60, 64, 67, 0.3), 0px 1px 3px 1px rgba(60, 64, 67, 0.15);\n",
              "      fill: #174EA6;\n",
              "    }\n",
              "\n",
              "    [theme=dark] .colab-df-convert {\n",
              "      background-color: #3B4455;\n",
              "      fill: #D2E3FC;\n",
              "    }\n",
              "\n",
              "    [theme=dark] .colab-df-convert:hover {\n",
              "      background-color: #434B5C;\n",
              "      box-shadow: 0px 1px 3px 1px rgba(0, 0, 0, 0.15);\n",
              "      filter: drop-shadow(0px 1px 2px rgba(0, 0, 0, 0.3));\n",
              "      fill: #FFFFFF;\n",
              "    }\n",
              "  </style>\n",
              "\n",
              "      <script>\n",
              "        const buttonEl =\n",
              "          document.querySelector('#df-efbf5597-bb06-4553-9c6d-80eebc312f0f button.colab-df-convert');\n",
              "        buttonEl.style.display =\n",
              "          google.colab.kernel.accessAllowed ? 'block' : 'none';\n",
              "\n",
              "        async function convertToInteractive(key) {\n",
              "          const element = document.querySelector('#df-efbf5597-bb06-4553-9c6d-80eebc312f0f');\n",
              "          const dataTable =\n",
              "            await google.colab.kernel.invokeFunction('convertToInteractive',\n",
              "                                                     [key], {});\n",
              "          if (!dataTable) return;\n",
              "\n",
              "          const docLinkHtml = 'Like what you see? Visit the ' +\n",
              "            '<a target=\"_blank\" href=https://colab.research.google.com/notebooks/data_table.ipynb>data table notebook</a>'\n",
              "            + ' to learn more about interactive tables.';\n",
              "          element.innerHTML = '';\n",
              "          dataTable['output_type'] = 'display_data';\n",
              "          await google.colab.output.renderOutput(dataTable, element);\n",
              "          const docLink = document.createElement('div');\n",
              "          docLink.innerHTML = docLinkHtml;\n",
              "          element.appendChild(docLink);\n",
              "        }\n",
              "      </script>\n",
              "    </div>\n",
              "  </div>\n",
              "  "
            ]
          },
          "metadata": {},
          "execution_count": 8
        }
      ]
    },
    {
      "cell_type": "markdown",
      "metadata": {
        "id": "xakj7Hul1jMp"
      },
      "source": [
        "Для выбора варианта, запустите код в следующей ячейке"
      ]
    },
    {
      "cell_type": "code",
      "metadata": {
        "id": "fvyYCARr1gLt",
        "colab": {
          "base_uri": "https://localhost:8080/"
        },
        "outputId": "e381815b-9f7a-422b-fb74-b34b5c7f0d64"
      },
      "source": [
        "if (int(str(v)[4]) % 2) == 0:\n",
        "  print ('2.1 Сделайте предсказание оценок для критика Michael Phillips по фильмам, которые он ещё не видел')\n",
        "else:\n",
        "  print ('2.1 Сделайте предсказание оценок для фильма Just My Luck по критикам, которые его ещё не видели')\n",
        "print ('2.2 Объясните как оценить качество полученного предказания')"
      ],
      "execution_count": null,
      "outputs": [
        {
          "output_type": "stream",
          "name": "stdout",
          "text": [
            "2.1 Сделайте предсказание оценок для критика Michael Phillips по фильмам, которые он ещё не видел\n",
            "2.2 Объясните как оценить качество полученного предказания\n"
          ]
        }
      ]
    },
    {
      "cell_type": "markdown",
      "metadata": {
        "id": "1lBTspUZFqWL"
      },
      "source": [
        "Штрафы:\n",
        "* отсутствие реализации алгоритма (2 балла)\n",
        "* ошибки в реализации алгоритма (1 балл)\n",
        "* отсутствие тестирования алгоритма (1 балл)\n",
        "* отсутствие объяснения оценки качества алгоритма (1 балл)"
      ]
    },
    {
      "cell_type": "markdown",
      "metadata": {
        "id": "v_oFki5H3_vy"
      },
      "source": [
        "После завершения контрольной работы, дайте ссылку на ноутбук в отдельном followup в своей теме на Piazza. Дайте разрешение на его просмотр.\n",
        "\n",
        "Не забудьте запустить код в последней ячейке для контроля времени выполнения."
      ]
    },
    {
      "cell_type": "code",
      "metadata": {
        "id": "HncJvMmo35Kv",
        "colab": {
          "base_uri": "https://localhost:8080/"
        },
        "outputId": "6711d81a-2492-4117-8699-f4830d7fcfc9"
      },
      "source": [
        "current_datetime = datetime.now()\n",
        "print(current_datetime)"
      ],
      "execution_count": null,
      "outputs": [
        {
          "output_type": "stream",
          "name": "stdout",
          "text": [
            "2022-10-24 10:10:34.078070\n"
          ]
        }
      ]
    },
    {
      "cell_type": "code",
      "source": [],
      "metadata": {
        "id": "ToL1O6hYePv9"
      },
      "execution_count": null,
      "outputs": []
    }
  ]
}