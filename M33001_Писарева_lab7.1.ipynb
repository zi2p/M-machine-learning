{
  "nbformat": 4,
  "nbformat_minor": 0,
  "metadata": {
    "colab": {
      "provenance": [],
      "include_colab_link": true
    },
    "kernelspec": {
      "display_name": "Python 3",
      "language": "python",
      "name": "python3"
    },
    "language_info": {
      "codemirror_mode": {
        "name": "ipython",
        "version": 3
      },
      "file_extension": ".py",
      "mimetype": "text/x-python",
      "name": "python",
      "nbconvert_exporter": "python",
      "pygments_lexer": "ipython3",
      "version": "3.6.5"
    },
    "accelerator": "GPU",
    "gpuClass": "standard"
  },
  "cells": [
    {
      "cell_type": "markdown",
      "metadata": {
        "id": "view-in-github",
        "colab_type": "text"
      },
      "source": [
        "<a href=\"https://colab.research.google.com/github/zi2p/M-machine-learning/blob/main/M33001_%D0%9F%D0%B8%D1%81%D0%B0%D1%80%D0%B5%D0%B2%D0%B0_lab7.1.ipynb\" target=\"_parent\"><img src=\"https://colab.research.google.com/assets/colab-badge.svg\" alt=\"Open In Colab\"/></a>"
      ]
    },
    {
      "cell_type": "markdown",
      "metadata": {
        "id": "vcnGdgw_YJ8u"
      },
      "source": [
        "# PyTorch. Основы: синтаксис, torch.cuda и torch.autograd\n",
        "\n",
        "## Задание 7.1"
      ]
    },
    {
      "cell_type": "code",
      "metadata": {
        "id": "RtyozNmmYJ89"
      },
      "source": [
        "import torch\n",
        "import matplotlib.pyplot as plt"
      ],
      "execution_count": null,
      "outputs": []
    },
    {
      "cell_type": "markdown",
      "metadata": {
        "id": "ny4-Qi2wYJ-6"
      },
      "source": [
        "### Задача 1"
      ]
    },
    {
      "cell_type": "markdown",
      "metadata": {
        "id": "IWxlFq0bYJ-_"
      },
      "source": [
        "1). Создайте два вещественных тензора: `a` размером (3, 4) и `b` размером (12,)   \n",
        "2). Создайте тензор `c`, являющийся тензором `b`, но размера (2, 2, 3)  \n",
        "3). Выведите первый столбец матрицы `a` с помощью индексации"
      ]
    },
    {
      "cell_type": "markdown",
      "source": [
        "1)\n"
      ],
      "metadata": {
        "id": "WNvSpcDucX-G"
      }
    },
    {
      "cell_type": "code",
      "metadata": {
        "id": "3oxZuk3yYJ_A"
      },
      "source": [
        "a = torch.FloatTensor(3, 4)\n",
        "b = torch.FloatTensor(12)"
      ],
      "execution_count": null,
      "outputs": []
    },
    {
      "cell_type": "markdown",
      "source": [
        "2)"
      ],
      "metadata": {
        "id": "32lwYRqKcxOo"
      }
    },
    {
      "cell_type": "code",
      "source": [
        "c = b.view(2, 2, 3)"
      ],
      "metadata": {
        "id": "ipU2w6qXcw-F"
      },
      "execution_count": null,
      "outputs": []
    },
    {
      "cell_type": "markdown",
      "source": [
        "3)"
      ],
      "metadata": {
        "id": "qhgwOBO1c1nG"
      }
    },
    {
      "cell_type": "code",
      "source": [
        "[row[0].item() for row in a]"
      ],
      "metadata": {
        "colab": {
          "base_uri": "https://localhost:8080/"
        },
        "id": "iTl3X-zPc2Y-",
        "outputId": "512fe3da-1f1f-4e54-d9cf-7ec0147f81c6"
      },
      "execution_count": null,
      "outputs": [
        {
          "output_type": "execute_result",
          "data": {
            "text/plain": [
              "[2.702035395838266e-34, nan, 4.306622594243449e+21]"
            ]
          },
          "metadata": {},
          "execution_count": 6
        }
      ]
    },
    {
      "cell_type": "markdown",
      "metadata": {
        "id": "D2IP_FrKYKAA"
      },
      "source": [
        "### Задача 2"
      ]
    },
    {
      "cell_type": "markdown",
      "metadata": {
        "id": "tBZFbSYQYKAA"
      },
      "source": [
        "1). Создайте два вещественных тензора: `a` размером (5, 2) и `b` размером (1,10)   \n",
        "2). Создайте тензор `c`, являющийся тензором `b`, но размера (5, 2)  \n",
        "3). Произведите все арифметические операции с тензорами `a` и `c`"
      ]
    },
    {
      "cell_type": "markdown",
      "source": [
        "1)"
      ],
      "metadata": {
        "id": "1n978_PDdFyG"
      }
    },
    {
      "cell_type": "code",
      "metadata": {
        "id": "hzs2bH3GYKAB"
      },
      "source": [
        "a = torch.FloatTensor(5, 2)\n",
        "b = torch.FloatTensor(1, 10)"
      ],
      "execution_count": null,
      "outputs": []
    },
    {
      "cell_type": "markdown",
      "source": [
        "2)"
      ],
      "metadata": {
        "id": "V3t-QXTPdJB6"
      }
    },
    {
      "cell_type": "code",
      "source": [
        "c = b.view(5, 2)"
      ],
      "metadata": {
        "id": "0rX6XSL5dL_v"
      },
      "execution_count": null,
      "outputs": []
    },
    {
      "cell_type": "markdown",
      "source": [
        "3)"
      ],
      "metadata": {
        "id": "6j1SKekgdM9k"
      }
    },
    {
      "cell_type": "code",
      "source": [
        "a_plus_c = a + c\n",
        "a_minus_c = a - c\n",
        "a_ymnojit_c = a * c   # умножение поэлементное \n",
        "a_delit_c = a / c      # деление поэлементное\n",
        "a_add_c = a.add(c)\n",
        "a_sub_c = a.sub(c)\n",
        "a_mul_c = a.mul(c)\n",
        "a_div_c = a.div(c)"
      ],
      "metadata": {
        "id": "2hvl2g_rdNtF"
      },
      "execution_count": null,
      "outputs": []
    },
    {
      "cell_type": "markdown",
      "metadata": {
        "id": "rIaroFO6YKBT"
      },
      "source": [
        "### Задача 3"
      ]
    },
    {
      "cell_type": "markdown",
      "metadata": {
        "id": "GfLHVvKvYKBT"
      },
      "source": [
        "1). Создайте тензор *целых чисел* `images` размерности (100, 200, 200, 3) (можно интерпретировать это как 100 картинок размера 200х200 с тремя цветовыми каналами, то есть 100 цветных изображений 200х200). Заполните его нулями  \n",
        "\n",
        "2). Сделайте так, чтобы у $i$-ой по порядку картинки была нарисована белая полоса толщиной два пикселя в строках, которые соответствуют номеру картинки. Например, у 3-ей по порядку картинки белая полоска будет занимать 6 и 7 строки, у 99 - 198 и 199. Сделать белую строку можно, записав в ячейки тензора число 255 (по всем трём каналам). Выведите несколько примеров с помощью `pylot`  \n",
        "\n",
        "3). Посчитайте среднее тензора `images` по 1-ой оси (по сути - средняя картинка), умножьте полученный тензор на 70. Нарисуйте с помощью `pyplot`, должна получиться серая картинка (при взятии среднего нужно привести тензор к float с помощью `.float()`, при отрисовке обратно к int с помощью `.int()`)"
      ]
    },
    {
      "cell_type": "markdown",
      "source": [
        "1)"
      ],
      "metadata": {
        "id": "coNEf1DAehh6"
      }
    },
    {
      "cell_type": "code",
      "metadata": {
        "id": "pZVGHEQQYKBU"
      },
      "source": [
        "images = torch.IntTensor(100, 200, 200, 3).zero_()"
      ],
      "execution_count": null,
      "outputs": []
    },
    {
      "cell_type": "code",
      "source": [
        "plt.imshow(images[3])"
      ],
      "metadata": {
        "colab": {
          "base_uri": "https://localhost:8080/",
          "height": 286
        },
        "id": "zBO07kyeexEU",
        "outputId": "7f1eaa86-cef7-4d87-9ada-29fdb86e6507"
      },
      "execution_count": null,
      "outputs": [
        {
          "output_type": "execute_result",
          "data": {
            "text/plain": [
              "<matplotlib.image.AxesImage at 0x7ff8f92ca670>"
            ]
          },
          "metadata": {},
          "execution_count": 20
        },
        {
          "output_type": "display_data",
          "data": {
            "text/plain": [
              "<Figure size 432x288 with 1 Axes>"
            ],
            "image/png": "[encoded data removed]"
          },
          "metadata": {
            "needs_background": "light"
          }
        }
      ]
    },
    {
      "cell_type": "markdown",
      "source": [
        "2)\n"
      ],
      "metadata": {
        "id": "fQgCU7kjert1"
      }
    },
    {
      "cell_type": "code",
      "source": [
        "for i in range(images.shape[0]):\n",
        "  images[i][i * 2] = images[i][i * 2 + 1] = 255"
      ],
      "metadata": {
        "id": "jijnD8AQethn"
      },
      "execution_count": null,
      "outputs": []
    },
    {
      "cell_type": "code",
      "source": [
        "plt.imshow(images[3])"
      ],
      "metadata": {
        "colab": {
          "base_uri": "https://localhost:8080/",
          "height": 286
        },
        "id": "CiM7KxWUe6Ib",
        "outputId": "e524ff0c-017c-4359-efeb-8162ad7e3cfa"
      },
      "execution_count": null,
      "outputs": [
        {
          "output_type": "execute_result",
          "data": {
            "text/plain": [
              "<matplotlib.image.AxesImage at 0x7ff8f92a5610>"
            ]
          },
          "metadata": {},
          "execution_count": 22
        },
        {
          "output_type": "display_data",
          "data": {
            "text/plain": [
              "<Figure size 432x288 with 1 Axes>"
            ],
            "image/png": "[encoded data removed]"
          },
          "metadata": {
            "needs_background": "light"
          }
        }
      ]
    },
    {
      "cell_type": "code",
      "source": [
        "plt.imshow(images[6])"
      ],
      "metadata": {
        "colab": {
          "base_uri": "https://localhost:8080/",
          "height": 286
        },
        "id": "xgTzhkA4fDc8",
        "outputId": "caa339d2-a849-4bb8-bd56-a5102c33eb7b"
      },
      "execution_count": null,
      "outputs": [
        {
          "output_type": "execute_result",
          "data": {
            "text/plain": [
              "<matplotlib.image.AxesImage at 0x7ff8f927d430>"
            ]
          },
          "metadata": {},
          "execution_count": 23
        },
        {
          "output_type": "display_data",
          "data": {
            "text/plain": [
              "<Figure size 432x288 with 1 Axes>"
            ],
            "image/png": "[encoded data removed]"
          },
          "metadata": {
            "needs_background": "light"
          }
        }
      ]
    },
    {
      "cell_type": "code",
      "source": [
        "plt.imshow(images[30])"
      ],
      "metadata": {
        "colab": {
          "base_uri": "https://localhost:8080/",
          "height": 286
        },
        "id": "h51l7wK2fOME",
        "outputId": "a8b6453b-3190-4de0-b147-2d9bbe913bd8"
      },
      "execution_count": null,
      "outputs": [
        {
          "output_type": "execute_result",
          "data": {
            "text/plain": [
              "<matplotlib.image.AxesImage at 0x7ff8f9152fa0>"
            ]
          },
          "metadata": {},
          "execution_count": 26
        },
        {
          "output_type": "display_data",
          "data": {
            "text/plain": [
              "<Figure size 432x288 with 1 Axes>"
            ],
            "image/png": "[encoded data removed]"
          },
          "metadata": {
            "needs_background": "light"
          }
        }
      ]
    },
    {
      "cell_type": "markdown",
      "source": [
        "3)"
      ],
      "metadata": {
        "id": "SmhobV8pfNJL"
      }
    },
    {
      "cell_type": "code",
      "source": [
        "values = (images.float()[1].mean() * 70).item()\n",
        "new_images = images.clone()\n",
        "new_images[0] = values"
      ],
      "metadata": {
        "id": "OmkqOSBzfUWB"
      },
      "execution_count": null,
      "outputs": []
    },
    {
      "cell_type": "code",
      "source": [
        "gray_image_0 = new_images[0]\n",
        "plt.imshow(gray_image_0)"
      ],
      "metadata": {
        "colab": {
          "base_uri": "https://localhost:8080/",
          "height": 286
        },
        "id": "2Xk5msdTfsRS",
        "outputId": "68c75ada-2882-4092-98ab-6647dc7cdfb8"
      },
      "execution_count": null,
      "outputs": [
        {
          "output_type": "execute_result",
          "data": {
            "text/plain": [
              "<matplotlib.image.AxesImage at 0x7ff8f9057a90>"
            ]
          },
          "metadata": {},
          "execution_count": 36
        },
        {
          "output_type": "display_data",
          "data": {
            "text/plain": [
              "<Figure size 432x288 with 1 Axes>"
            ],
            "image/png": "[encoded data removed]"
          },
          "metadata": {
            "needs_background": "light"
          }
        }
      ]
    },
    {
      "cell_type": "markdown",
      "metadata": {
        "id": "oQnhq5ZdYKCu"
      },
      "source": [
        "### Задача 4"
      ]
    },
    {
      "cell_type": "markdown",
      "metadata": {
        "id": "UB95BhgTYKCu"
      },
      "source": [
        "- В Colab нажмите в меню сверху: `Runtime` -> `Change Runtime Type` -> `GPU`, где изначально стоит `None` (`Среда выполнение` - `Сменить среду выполнения`)\n",
        "- Объявите тензор `a` размера (2, 3, 4) и тензор `b` размера (1, 8, 3) на GPU, иницилизируйте их случайно равномерно (`.uniform_()`)\n",
        "- Затем измените форму тензора `b`, чтобы она совпадала с формой тензора `a`, получите тензор `c`  \n",
        "- Переместите `c` на CPU, переместите `a` на CPU  \n",
        "- Оберните их в `Variable()`\n",
        "- Объявите тензор `L = torch.mean((c - a) `**` 2)` и посчитайте градиент `L` по `c` ( то есть $\\frac{\\partial{L}}{\\partial{c}})$\n",
        "- Выведите градиент `L` по `c`"
      ]
    },
    {
      "cell_type": "markdown",
      "source": [
        "![image.png](data:image/png;base64,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)"
      ],
      "metadata": {
        "id": "g6wOITFggind"
      }
    },
    {
      "cell_type": "code",
      "metadata": {
        "id": "WESOm5TCYKCv"
      },
      "source": [
        "from torch.autograd import Variable"
      ],
      "execution_count": null,
      "outputs": []
    },
    {
      "cell_type": "code",
      "source": [
        "a = torch.FloatTensor(2, 3, 4).cuda().uniform_()\n",
        "b = torch.FloatTensor(1, 8, 3).cuda().uniform_()"
      ],
      "metadata": {
        "id": "28o8JMvfgrOO"
      },
      "execution_count": null,
      "outputs": []
    },
    {
      "cell_type": "code",
      "source": [
        "c = b.view(2, 3, 4)"
      ],
      "metadata": {
        "id": "tCbon8Pdg4IL"
      },
      "execution_count": null,
      "outputs": []
    },
    {
      "cell_type": "code",
      "source": [
        "a = Variable(a.cpu())\n",
        "c = Variable(c.cpu(), requires_grad=True)"
      ],
      "metadata": {
        "id": "wwqzv-yqg_RS"
      },
      "execution_count": null,
      "outputs": []
    },
    {
      "cell_type": "code",
      "source": [
        "L = torch.mean((c - a) ** 2)\n",
        "L.backward()\n",
        "c_grad = c.grad"
      ],
      "metadata": {
        "id": "LvUtTfqihCE2"
      },
      "execution_count": null,
      "outputs": []
    },
    {
      "cell_type": "code",
      "source": [
        "print(c_grad)"
      ],
      "metadata": {
        "colab": {
          "base_uri": "https://localhost:8080/"
        },
        "id": "dohPjToFhLg3",
        "outputId": "27bb28ad-229d-411d-9e85-0f73d5194fab"
      },
      "execution_count": null,
      "outputs": [
        {
          "output_type": "stream",
          "name": "stdout",
          "text": [
            "tensor([[[ 0.0035,  0.0004, -0.0631, -0.0062],\n",
            "         [-0.0108,  0.0119,  0.0444,  0.0125],\n",
            "         [ 0.0019, -0.0062,  0.0061, -0.0395]],\n",
            "\n",
            "        [[ 0.0491,  0.0461, -0.0184,  0.0660],\n",
            "         [ 0.0024, -0.0105, -0.0345,  0.0066],\n",
            "         [ 0.0442, -0.0272,  0.0472, -0.0555]]])\n"
          ]
        }
      ]
    }
  ]
}