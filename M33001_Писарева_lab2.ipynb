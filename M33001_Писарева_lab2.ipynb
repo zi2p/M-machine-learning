{
  "cells": [
    {
      "cell_type": "markdown",
      "metadata": {
        "id": "view-in-github",
        "colab_type": "text"
      },
      "source": [
        "<a href=\"https://colab.research.google.com/github/zi2p/M-machine-learning/blob/main/M33001_%D0%9F%D0%B8%D1%81%D0%B0%D1%80%D0%B5%D0%B2%D0%B0_lab2.ipynb\" target=\"_parent\"><img src=\"https://colab.research.google.com/assets/colab-badge.svg\" alt=\"Open In Colab\"/></a>"
      ]
    },
    {
      "cell_type": "code",
      "execution_count": null,
      "metadata": {
        "colab": {
          "base_uri": "https://localhost:8080/"
        },
        "id": "bZ7J0si68JdT",
        "outputId": "6c107a00-2c1e-448e-c00f-8036597b6845"
      },
      "outputs": [
        {
          "output_type": "stream",
          "name": "stdout",
          "text": [
            "Mounted at /content/gdrive\n"
          ]
        }
      ],
      "source": [
        "import pandas as pd\n",
        "import numpy as np\n",
        "from google.colab import drive\n",
        "drive.mount('/content/gdrive')"
      ]
    },
    {
      "cell_type": "markdown",
      "metadata": {
        "id": "xjvL0IIG8Jd0"
      },
      "source": [
        "## Задание 0\n"
      ]
    },
    {
      "cell_type": "markdown",
      "metadata": {
        "id": "yaSxXHvxO0qo"
      },
      "source": [
        "Для всех  заданий будем использовать обезличенные транзакционные банковские данные. Для этого считайте в переменные **tr_mcc_codes, tr_types, transactions и gender_train** из одноимённых таблиц из папки [data](https://drive.google.com/drive/folders/1YAMe7MiTxA-RSSd8Ex2p-L0Dspe6Gs4L). \n",
        "\n",
        "Для таблицы transactions используйте только первые n=1000000 строк. При чтении файлов обратите внимание на разделители внутри каждого из файлов - они могут различаться!"
      ]
    },
    {
      "cell_type": "code",
      "source": [
        "transactions=pd.read_csv(\"gdrive/MyDrive/transactions.csv\", nrows=1000000) # используем только первые 1000000 строк\n",
        "tr_mcc_codes=pd.read_csv(\"gdrive/MyDrive/tr_mcc_codes.csv\", sep = ';')\n",
        "tr_types=pd.read_csv(\"gdrive/MyDrive/tr_types.csv\", sep = ';')\n",
        "gender_train=pd.read_csv(\"gdrive/MyDrive/gender_train.csv\")"
      ],
      "metadata": {
        "id": "J6CBilgXwal9"
      },
      "execution_count": null,
      "outputs": []
    },
    {
      "cell_type": "markdown",
      "metadata": {
        "id": "oP3lX9xC8Jd8"
      },
      "source": [
        "###  Описание данных\n",
        "#### Таблица ```transactions.csv```\n",
        "##### Описание\n",
        "Таблица содержит историю транзакций клиентов банка за один год и три месяца.\n",
        "\n",
        "##### Формат данных\n",
        "\n",
        "```\n",
        "customer_id,tr_datetime,mcc_code,tr_type,amount,term_id\n",
        "111111,15 01:40:52,1111,1000,-5224,111111\n",
        "111112,15 15:18:32,3333,2000,-100,11122233\n",
        "...\n",
        "```\n",
        "##### Описание полей\n",
        "\n",
        " - ```customer_id``` — идентификатор клиента;\n",
        " - ```tr_datetime``` — день и время совершения транзакции (дни нумеруются с начала данных);\n",
        " - ```mcc_code``` — mcc-код транзакции;\n",
        " - ```tr_type``` — тип транзакции;\n",
        " - ```amount``` — сумма транзакции в условных единицах со знаком; ```+``` — начисление средств клиенту (приходная транзакция), ```-``` — списание средств (расходная транзакция);\n",
        " - ```term_id``` — идентификатор терминала;\n",
        "\n",
        "\n",
        "#### Таблица ```gender_train.csv```\n",
        "\n",
        "##### Описание\n",
        "Данная таблица содержит информацию по полу для части клиентов, для которых он известен. Для остальных клиентов пол неизвестен.\n",
        "\n",
        "##### Формат данных\n",
        "```\n",
        "customer_id,gender\n",
        "111111,0\n",
        "111112,1\n",
        "...\n",
        "```\n",
        "\n",
        "##### Описание полей\n",
        " - ```customer_id``` — идентификатор клиента;\n",
        " - ```gender``` — пол клиента;\n",
        "\n",
        "### Таблица ```tr_mcc_codes.csv```\n",
        "\n",
        "##### Описание\n",
        "Данная таблица содержит описание mcc-кодов транзакций.\n",
        "\n",
        "##### Формат данных\n",
        "```\n",
        "mcc_code;mcc_description\n",
        "1000;словесное описание mcc-кода 1000\n",
        "2000;словесное описание mcc-кода 2000\n",
        "...\n",
        "```\n",
        "\n",
        "##### Описание полей\n",
        " - ```mcc_code``` – mcc-код транзакции;\n",
        " - ```mcc_description``` — описание mcc-кода транзакции.\n",
        "\n",
        "#### Таблица ```tr_types.csv```\n",
        "\n",
        "##### Описание\n",
        "Данная таблица содержит описание типов транзакций.\n",
        "\n",
        "##### Формат данных\n",
        "```\n",
        "tr_type;tr_description\n",
        "1000;словесное описание типа транзакции 1000\n",
        "2000;словесное описание типа транзакции 2000\n",
        "...\n",
        "```\n",
        "\n",
        "##### Описание полей\n",
        " - ```tr_type``` – тип транзакции;\n",
        " - ```tr_description``` — описание типа транзакции;"
      ]
    },
    {
      "cell_type": "markdown",
      "metadata": {
        "id": "04CYsBKz8JeB"
      },
      "source": [
        "\n",
        "Задания 1-4 делаются без использования merge!\n",
        "\n",
        "## Задание 1\n",
        "\n"
      ]
    },
    {
      "cell_type": "markdown",
      "metadata": {
        "id": "1hcrfwsYN_Yz"
      },
      "source": [
        "1. Для столбца tr_type датафрейма transactions выберите произвольные 1000 строк с помощью метода sample\n",
        "2. В полученной на предыдущем этапе подвыборке найдите долю транзакций (стобец tr_description в датасете tr_types), в которой содержится подстрока 'POS' или 'ATM'\n"
      ]
    },
    {
      "cell_type": "code",
      "execution_count": null,
      "metadata": {
        "colab": {
          "base_uri": "https://localhost:8080/"
        },
        "id": "1nI1RfVOK8q5",
        "outputId": "114eb70d-bda4-4463-d52e-cc3c45b98072"
      },
      "outputs": [
        {
          "output_type": "stream",
          "name": "stdout",
          "text": [
            "0.604\n"
          ]
        }
      ],
      "source": [
        "tr_type_transactions=transactions[\"tr_type\"].sample(1000)                                     # №1.1\n",
        "\n",
        "transactions_ATM_POS=(tr_types[\"tr_description\"]\n",
        "                      .str.contains('POS')) | (tr_types[\"tr_description\"]\n",
        "                                               .str.contains('АТМ'))\n",
        "\n",
        "types_ATM_POS=tr_types[\"tr_type\"][transactions_ATM_POS]\n",
        "count_ATM_POS=tr_type_transactions.isin(types_ATM_POS).value_counts()[True]\n",
        "\n",
        "print(count_ATM_POS/1000)                                                                     # №1.2"
      ]
    },
    {
      "cell_type": "markdown",
      "metadata": {
        "id": "fiZBDIZt8JeS"
      },
      "source": [
        "## Задание 2 \n"
      ]
    },
    {
      "cell_type": "markdown",
      "metadata": {
        "id": "FFKeBUThOCrz"
      },
      "source": [
        "1. Для столбца tr_type датафрейма transactions посчитайте частоту встречаемости всех типов транзакций tr_type в transactions.\n",
        "2. Выведите топ-10 транзакций по частоте встречаемости (вывести для них tr_description тоже)."
      ]
    },
    {
      "cell_type": "code",
      "source": [
        "frequency_type_transactions=transactions[\"tr_type\"].value_counts()    # №2.1\n",
        "\n",
        "top_10_type_transactions=transactions[\"tr_type\"].value_counts().sort_values(ascending=False).head(10)\n",
        "top_10_transactions=tr_types[tr_types[\"tr_type\"].isin(top_10_type_transactions.index)]\n",
        "\n",
        "print(top_10_transactions)                                            # №2.2"
      ],
      "metadata": {
        "colab": {
          "base_uri": "https://localhost:8080/"
        },
        "id": "SV3OBXFu_ghb",
        "outputId": "03a55fa7-a0e8-498d-8b2c-b0ab61752818"
      },
      "execution_count": null,
      "outputs": [
        {
          "output_type": "stream",
          "name": "stdout",
          "text": [
            "     tr_type                                     tr_description\n",
            "39      7010       Взнос наличных через АТМ (в своем тер.банке)\n",
            "47      7030  Перевод на карту (с карты) через АТМ (в предел...\n",
            "59      7070  Перевод на карту (с карты) через Мобильный бан...\n",
            "60      7071  Перевод на карту (с карты) через Мобильный бан...\n",
            "98      1010                              Покупка. POS ТУ СБ РФ\n",
            "99      1030                     Оплата услуги. Банкоматы СБ РФ\n",
            "100     1100                                Покупка. ТУ  Россия\n",
            "101     1110                             Покупка. POS ТУ Россия\n",
            "106     2010              Выдача наличных в АТМ Сбербанк России\n",
            "129     2370  Списание с карты на карту по операции <перевод...\n"
          ]
        }
      ]
    },
    {
      "cell_type": "markdown",
      "metadata": {
        "id": "mktm_JeA8JeX"
      },
      "source": [
        "## Задание 3\n",
        "1. В датафрейме transactions найдите клиента с максимальной суммой приходов на карту\n",
        "2. В датафрейме transactions найдите клиента с максимальной суммой расходов по карте\n",
        "3. Найдите модуль разницы для этих клиентов между суммой расходов и суммой приходов"
      ]
    },
    {
      "cell_type": "code",
      "source": [
        "customers_amount=transactions[[\"customer_id\",\"amount\"]]\n",
        "\n",
        "customers_sum_max=customers_amount[customers_amount[\"amount\"]>0].groupby([\"customer_id\"])[\"amount\"].sum()\n",
        "customer_max_summ=customers_sum_max.sort_values(ascending=False).head(1)\n",
        "print(\"Max суммой приходов на карту: \", customer_max_summ, \"\\n\")                                                   # №3.1\n",
        "\n",
        "customers_sum_min=customers_amount[customers_amount[\"amount\"] < 0].groupby([\"customer_id\"])[\"amount\"].sum()\n",
        "customer_min_summ=customers_sum_min.sort_values(ascending=True).head(1)\n",
        "print(\"Max суммой расходов на карте: \", customer_min_summ, \"\\n\")                                                   # №3.2\n",
        "\n",
        "\n",
        "print(\"Модуль разницы сумм: \", abs(abs(customer_min_summ.min().item())-abs(customers_sum_max.max().item())))       # №3.3"
      ],
      "metadata": {
        "colab": {
          "base_uri": "https://localhost:8080/"
        },
        "id": "6BvVWTjEet4a",
        "outputId": "93b8e78d-d738-47bb-a5f0-66d5a9ab3331"
      },
      "execution_count": null,
      "outputs": [
        {
          "output_type": "stream",
          "name": "stdout",
          "text": [
            "Max суммой приходов на карту:  customer_id\n",
            "70780820    1.248115e+09\n",
            "Name: amount, dtype: float64 \n",
            "\n",
            "Max суммой расходов на карте:  customer_id\n",
            "70780820   -1.249952e+09\n",
            "Name: amount, dtype: float64 \n",
            "\n",
            "Модуль разницы сумм:  1837317.980000019\n"
          ]
        }
      ]
    },
    {
      "cell_type": "markdown",
      "metadata": {
        "id": "BYrJ5b_E8Jee"
      },
      "source": [
        "## Задание 4\n",
        "1. Найдите среднее арифметическое и медиану по amount по всем типам транзакций из топ 10 из задания 2\n",
        "1. Найдите среднее арифметическое и медиану по amount по всем типам транзакций для клиентов из задания 3"
      ]
    },
    {
      "cell_type": "code",
      "source": [
        "# надо сделать список типов транзакций из топа 10 и найти их в общих транзакциях\n",
        "top_10_transactions_types=top_10_transactions[\"tr_type\"]\n",
        "list_top_10_transactions_types=list(top_10_transactions_types)                                                 # список подходящих\n",
        "in_top_10_transactions=transactions[transactions[\"tr_type\"].isin(list_top_10_transactions_types)]              # подходящие из всего списка"
      ],
      "metadata": {
        "id": "-blTXLDQs3jl"
      },
      "execution_count": null,
      "outputs": []
    },
    {
      "cell_type": "markdown",
      "source": [
        "*Мне немного было не понятно задание 4.1 и я решила найти медиану и ср арифметическое как по каждому типу в отдельности так и по всем типам из топ 10 в сумме.*"
      ],
      "metadata": {
        "id": "kM9BvWdP81ND"
      }
    },
    {
      "cell_type": "code",
      "source": [
        "# №4.1\n",
        "arithmetic_mean_amount_by_top_10_types=in_top_10_transactions.groupby(\"tr_type\")[\"amount\"].mean()\n",
        "median_amount_by_top_10_types=in_top_10_transactions.groupby(\"tr_type\")[\"amount\"].median()\n",
        "\n",
        "\n",
        "all_arithmetic_mean_amount_by_top_10_types=in_top_10_transactions.groupby(\"tr_type\")[\"amount\"].sum().mean()\n",
        "all_median_amount_by_top_10_types=in_top_10_transactions.groupby(\"tr_type\")[\"amount\"].sum().median()\n",
        "\n",
        "print(\"по каждому из типов: \\n\\n\", \"Ср.арифметическое: \", round(arithmetic_mean_amount_by_top_10_types, 2), \"\\n\\n\", \"Медиана: \", round(median_amount_by_top_10_types, 2), \"\\n\")\n",
        "\n",
        "print(\"по всем типам: \\n\\n\", \"Ср.арифметическое: \", round(all_arithmetic_mean_amount_by_top_10_types, 2), \"\\n\", \"Медиана: \", round(all_median_amount_by_top_10_types, 2), \"\\n\")"
      ],
      "metadata": {
        "colab": {
          "base_uri": "https://localhost:8080/"
        },
        "id": "wJwhPk1K5wCy",
        "outputId": "ceab2ed6-57b9-44b3-e344-f91b6458bb26"
      },
      "execution_count": null,
      "outputs": [
        {
          "output_type": "stream",
          "name": "stdout",
          "text": [
            "по каждому из типов: \n",
            "\n",
            " Ср.арифметическое:  tr_type\n",
            "1010    -19784.75\n",
            "1030     -5320.98\n",
            "1100    -44061.83\n",
            "1110    -32119.33\n",
            "2010   -136077.63\n",
            "2370   -205418.25\n",
            "7010    276391.79\n",
            "7030     86104.33\n",
            "7070     65569.83\n",
            "7071     66806.83\n",
            "Name: amount, dtype: float64 \n",
            "\n",
            " Медиана:  tr_type\n",
            "1010     -7411.52\n",
            "1030     -2245.92\n",
            "1100    -10188.26\n",
            "1110    -11207.57\n",
            "2010    -44918.32\n",
            "2370    -44918.32\n",
            "7010    112295.79\n",
            "7030     13951.52\n",
            "7070     11319.42\n",
            "7071      3593.47\n",
            "Name: amount, dtype: float64 \n",
            "\n",
            "по всем типам: \n",
            "\n",
            " Ср.арифметическое:  -2003771266.09 \n",
            " Медиана:  -657482230.3 \n",
            "\n"
          ]
        }
      ]
    },
    {
      "cell_type": "markdown",
      "source": [
        "*Аналогично предыдущему пункту нахожу для каждого типа в отдельности и в сумме.*"
      ],
      "metadata": {
        "id": "j65obQ31_EK9"
      }
    },
    {
      "cell_type": "code",
      "source": [
        "# №4.2\n",
        "customer_id_max=customer_max_summ.index\n",
        "customer_id_min=customer_min_summ.index\n",
        "tr_customer=transactions[transactions['customer_id'].isin((customer_id_max, customer_id_min))].groupby(['tr_type'])['amount']\n",
        "tr_customer_summ=transactions[transactions['customer_id'].isin((customer_id_max, customer_id_min))].groupby(['tr_type'])['amount'].sum()"
      ],
      "metadata": {
        "id": "090vKjos99BX"
      },
      "execution_count": null,
      "outputs": []
    },
    {
      "cell_type": "code",
      "source": [
        "print(\"по каждому из типов: \\n\\n\", \"Ср.арифметическое: \", round(tr_customer.mean(), 2), \"\\n\\n\", \"Медиана: \", round(tr_customer.median(), 2), \"\\n\")\n",
        "print(\"по всем типам: \\n\\n\", \"Ср.арифметическое: \", round(tr_customer_summ.mean(), 2), \"\\n\", \"Медиана: \", round(tr_customer_summ.median(), 2), \"\\n\")"
      ],
      "metadata": {
        "colab": {
          "base_uri": "https://localhost:8080/"
        },
        "id": "C-Op6jpIBLfb",
        "outputId": "dff1c791-5581-4c95-dff1-da938318a53f"
      },
      "execution_count": null,
      "outputs": [
        {
          "output_type": "stream",
          "name": "stdout",
          "text": [
            "по каждому из типов: \n",
            "\n",
            " Ср.арифметическое:  tr_type\n",
            "2010   -2941055.87\n",
            "2330   -2382398.34\n",
            "2370   -2218504.99\n",
            "6110      17562.93\n",
            "7020      14651.29\n",
            "7021      28500.67\n",
            "7030      14061.96\n",
            "7031      19210.36\n",
            "7034      14306.48\n",
            "7040      21538.33\n",
            "7070      13848.21\n",
            "7071      18600.57\n",
            "7074      22811.59\n",
            "Name: amount, dtype: float64 \n",
            "\n",
            " Медиана:  tr_type\n",
            "2010   -3368873.66\n",
            "2330   -2245915.77\n",
            "2370   -2245915.77\n",
            "6110      10028.01\n",
            "7020      10319.98\n",
            "7021      28500.67\n",
            "7030       8848.91\n",
            "7031      12992.62\n",
            "7034      14306.48\n",
            "7040      14396.32\n",
            "7070       8714.15\n",
            "7071      12543.44\n",
            "7074       9387.93\n",
            "Name: amount, dtype: float64 \n",
            "\n",
            "по всем типам: \n",
            "\n",
            " Ср.арифметическое:  -141332.15 \n",
            " Медиана:  296550.71 \n",
            "\n"
          ]
        }
      ]
    },
    {
      "cell_type": "markdown",
      "metadata": {
        "id": "BYXwM4l3QDBu"
      },
      "source": [
        "## Подготовка для заданий 5-8"
      ]
    },
    {
      "cell_type": "markdown",
      "metadata": {
        "id": "XWQzFeKcQHRe"
      },
      "source": [
        "*Из заданий 5-8 нужно выполнить минимум два любых*\n",
        "\n",
        "Соедините transactions с всеми остальными таблицами (tr_mcc_codes, tr_types, gender_train). Причём с gender_train необходимо смёрджиться с помощью left join, а с оставшимися датафреймами - через inner.\n",
        "После получения результата таблицы gender_train, tr_types, tr_mcc_codes можно удалить. В результате соединения датафреймов должно получиться 999584 строки."
      ]
    },
    {
      "cell_type": "code",
      "execution_count": null,
      "metadata": {
        "id": "sndJxjJ7QQf5",
        "colab": {
          "base_uri": "https://localhost:8080/"
        },
        "outputId": "457c44cf-be94-4f62-b981-4156f8c287e9"
      },
      "outputs": [
        {
          "output_type": "execute_result",
          "data": {
            "text/plain": [
              "(999584, 9)"
            ]
          },
          "metadata": {},
          "execution_count": 10
        }
      ],
      "source": [
        "transactions = pd.merge(transactions, gender_train, how='left')\n",
        "transactions = pd.merge(transactions, tr_mcc_codes, how='inner')\n",
        "transactions = pd.merge(transactions, tr_types, how='inner')\n",
        "transactions.shape"
      ]
    },
    {
      "cell_type": "markdown",
      "metadata": {
        "id": "8vrFauJ8QgmT"
      },
      "source": [
        "## Задание 5"
      ]
    },
    {
      "cell_type": "markdown",
      "metadata": {
        "id": "rOjEQ5xyQfE_"
      },
      "source": [
        "1. Определите модуль разницы между средними тратами женщин и мужчин (трата - отрицательное значение amount).\n",
        "2. Определите модуль разницы между средними поступлениями у мужчин и женщин\n",
        "\n",
        "Обратите внимание, что для вычисления модуля разности точных знаний о том, \n",
        "какой класc относится к мужчинам, а какой - к женщинам, не требуется."
      ]
    },
    {
      "cell_type": "code",
      "source": [
        "expenditure=transactions[transactions[\"amount\"]<0].groupby([\"gender\"])[\"amount\"]    # траты\n",
        "entrance=transactions[transactions[\"amount\"]>0].groupby([\"gender\"])[\"amount\"]       # поступления"
      ],
      "metadata": {
        "id": "1XMzi_ZiJYwc"
      },
      "execution_count": null,
      "outputs": []
    },
    {
      "cell_type": "code",
      "source": [
        "print(\"Модуль разницы ср. трат по гендеру: \", round(abs(expenditure.mean().get(0)-expenditure.mean().get(1)), 2))   # №5.1\n",
        "print(\"Модуль разницы ср. поступлений по гендеру: \", round(abs(entrance.mean().get(0)-entrance.mean().get(1)), 2))  # №5.2"
      ],
      "metadata": {
        "colab": {
          "base_uri": "https://localhost:8080/"
        },
        "id": "_6XZlWESK5aZ",
        "outputId": "792fefda-a448-4ca7-dd42-648b066058bb"
      },
      "execution_count": null,
      "outputs": [
        {
          "output_type": "stream",
          "name": "stdout",
          "text": [
            "Модуль разницы ср. трат по гендеру:  32718.05\n",
            "Модуль разницы ср. поступлений по гендеру:  63366.57\n"
          ]
        }
      ]
    },
    {
      "cell_type": "markdown",
      "metadata": {
        "id": "DSHFLbepQ7G1"
      },
      "source": [
        "## Задание 6"
      ]
    },
    {
      "cell_type": "markdown",
      "metadata": {
        "id": "2EF1490bQ-17"
      },
      "source": [
        "1. По всем типам транзакций рассчитайте максимальную сумму прихода на карту (из строго положительных сумм по столбцу amount) отдельно для мужчин и женщин (назовите ее \"max_income\"). Оставьте по 10 типов транзакций для мужчин и для женщин, наименьших среди всех типов транзакций по полученным значениям \"max_income\". \n",
        "2. Выделите среди них те типы транзакций, которые встречаются одновременно и у мужчин, и у женщин"
      ]
    },
    {
      "cell_type": "code",
      "source": [
        "# №6.1\n",
        "max_income=transactions[transactions[\"amount\"]>0].groupby([\"gender\",\"tr_type\"])[\"amount\"].sum()\n",
        "top_10_max_income_0=max_income.get(0).sort_values(ascending=True).head(10)\n",
        "top_10_max_income_1=max_income.get(1).sort_values(ascending=True).head(10)"
      ],
      "metadata": {
        "id": "hjxwx_7P4Bfa"
      },
      "execution_count": null,
      "outputs": []
    },
    {
      "cell_type": "code",
      "source": [
        "print(\"Гендер 0: \\n\", top_10_max_income_0, \"\\n\")\n",
        "print(\"Гендер 1: \\n\", top_10_max_income_1)"
      ],
      "metadata": {
        "colab": {
          "base_uri": "https://localhost:8080/"
        },
        "id": "BWUpt4nd5XGc",
        "outputId": "cc41462e-a319-4e61-dd12-0f098faab2a1"
      },
      "execution_count": null,
      "outputs": [
        {
          "output_type": "stream",
          "name": "stdout",
          "text": [
            "Гендер 0: \n",
            " tr_type\n",
            "4051     1122.96\n",
            "4210     2245.92\n",
            "4110     2245.92\n",
            "2370     2335.75\n",
            "7075     6737.75\n",
            "2110    22459.16\n",
            "1010    31532.66\n",
            "4100    40334.88\n",
            "2210    68315.82\n",
            "1210    83644.87\n",
            "Name: amount, dtype: float64 \n",
            "\n",
            "Гендер 1: \n",
            " tr_type\n",
            "2020      2245.92\n",
            "4110      4491.84\n",
            "1010     35317.03\n",
            "8100     64682.37\n",
            "6000     79280.83\n",
            "7041     87590.72\n",
            "2370    113194.15\n",
            "7015    121279.45\n",
            "2110    179673.26\n",
            "2010    224591.59\n",
            "Name: amount, dtype: float64\n"
          ]
        }
      ]
    },
    {
      "cell_type": "code",
      "source": [
        "# №6.2\n",
        "types_tr_gender_0=list(top_10_max_income_0.index)\n",
        "types_tr_gender_1=list(top_10_max_income_1.index)\n",
        "\n",
        "print(list(set(types_tr_gender_0) & set(types_tr_gender_1)))"
      ],
      "metadata": {
        "colab": {
          "base_uri": "https://localhost:8080/"
        },
        "id": "hGfiZQsI5wRO",
        "outputId": "da545b57-e100-494e-b271-9a6f79c54638"
      },
      "execution_count": null,
      "outputs": [
        {
          "output_type": "stream",
          "name": "stdout",
          "text": [
            "[2110, 2370, 1010, 4110]\n"
          ]
        }
      ]
    },
    {
      "cell_type": "markdown",
      "metadata": {
        "id": "W-LaVwRdR3UB"
      },
      "source": [
        "## Задание 7"
      ]
    },
    {
      "cell_type": "markdown",
      "metadata": {
        "id": "rhI4NOciR7e0"
      },
      "source": [
        "1. Найдите суммы затрат по каждой категории (mcc) для мужчин и для женщин. \n",
        "2. Найдите топ 10 категорий с самыми большими относительными модулями разности в тратах для разных полов (в ответе должны присутствовать описания mcc кодов)."
      ]
    },
    {
      "cell_type": "code",
      "source": [
        "# №7.1\n",
        "summ_expenditure=transactions[transactions[\"amount\"]<0].groupby([\"gender\",\"mcc_code\"])[\"amount\"].sum()\n",
        "summ_expenditure"
      ],
      "metadata": {
        "colab": {
          "base_uri": "https://localhost:8080/"
        },
        "id": "zHzItJn_7QHK",
        "outputId": "b5d978eb-a41f-47bc-a576-69ace41c5af3"
      },
      "execution_count": null,
      "outputs": [
        {
          "output_type": "execute_result",
          "data": {
            "text/plain": [
              "gender  mcc_code\n",
              "0.0     742          -386207.68\n",
              "        1711         -674897.69\n",
              "        1799         -261626.73\n",
              "        2741          -20746.42\n",
              "        3000       -74431645.27\n",
              "                       ...     \n",
              "1.0     8999       -28643346.63\n",
              "        9222         -988205.17\n",
              "        9311         -373271.22\n",
              "        9399        -1810820.67\n",
              "        9402           -4581.67\n",
              "Name: amount, Length: 349, dtype: float64"
            ]
          },
          "metadata": {},
          "execution_count": 16
        }
      ]
    },
    {
      "cell_type": "code",
      "source": [
        "# №7.2\n",
        "top_10_summ_expenditure_abs=abs(summ_expenditure.get(0)-summ_expenditure.get(1)).sort_values(ascending=False).head(10)\n",
        "top_10_summ_expenditure_abs_with_mcc=tr_mcc_codes[tr_mcc_codes[\"mcc_code\"].isin(top_10_summ_expenditure_abs.index)]\n",
        "print(\"Топ 10 категорий: \\n\", top_10_summ_expenditure_abs_with_mcc)"
      ],
      "metadata": {
        "colab": {
          "base_uri": "https://localhost:8080/"
        },
        "id": "tVnma3YI79Xp",
        "outputId": "475a2162-831b-4ae3-d9da-22105fad1580"
      },
      "execution_count": null,
      "outputs": [
        {
          "output_type": "stream",
          "name": "stdout",
          "text": [
            "Топ 10 категорий: \n",
            "      mcc_code                                mcc_description,,,,\n",
            "22       4829                              Денежные переводы,,,,\n",
            "62       5511  Легковой и грузовой транспорт — продажа,сервис...\n",
            "64       5533                      Автозапчасти и аксессуары,,,,\n",
            "65       5541                        Станции техобслуживания,,,,\n",
            "75       5661                               Обувные магазины,,,,\n",
            "90       5812           Места общественного питания,рестораны,,,\n",
            "116      5977                             Магазины косметики,,,,\n",
            "123      6010  Финансовые институты — снятие наличности вручн...\n",
            "124      6011  Финансовые институты — снятие наличности автом...\n",
            "162      7995                   Транзакции по азартным играм,,,,\n"
          ]
        }
      ]
    },
    {
      "cell_type": "markdown",
      "metadata": {
        "id": "aGaPkQkVSvl8"
      },
      "source": [
        "## Задание 8"
      ]
    },
    {
      "cell_type": "markdown",
      "metadata": {
        "id": "T7Ox1qAXTHQl"
      },
      "source": [
        "1. Из поля tr_datetime выделите час tr_hour, в который произошла транзакция, как первые 2 цифры до \":\". (\\**)\n",
        "2. Посчитайте количество транзакций с amount<0 в ночное время для мужчин и женщин. Ночное время - это примерно 00-06 часов. "
      ]
    },
    {
      "cell_type": "code",
      "source": [
        "# №8.1\n",
        "transactions[[\"tr_day\", \"tr_time\"]]=transactions[\"tr_datetime\"].str.split(\" \",expand=True)\n",
        "transactions[[\"tr_hour\",\"tr_minute\",\"tr_second\"]]=transactions[\"tr_time\"].str.split(\":\",expand=True)"
      ],
      "metadata": {
        "id": "T3nKMc_j-dUk"
      },
      "execution_count": null,
      "outputs": []
    },
    {
      "cell_type": "code",
      "source": [
        "# №8.2\n",
        "transactions_night=transactions[((transactions[\"amount\"]<0)&(transactions[\"tr_hour\"].astype(int)<=6))].groupby(\"gender\")[\"amount\"].count()\n",
        "transactions_night"
      ],
      "metadata": {
        "colab": {
          "base_uri": "https://localhost:8080/"
        },
        "id": "P5r_zPcT-rSQ",
        "outputId": "628c04c8-a80f-47f2-daed-a6139e0f8082"
      },
      "execution_count": null,
      "outputs": [
        {
          "output_type": "execute_result",
          "data": {
            "text/plain": [
              "gender\n",
              "0.0    43510\n",
              "1.0    46694\n",
              "Name: amount, dtype: int64"
            ]
          },
          "metadata": {},
          "execution_count": 19
        }
      ]
    },
    {
      "cell_type": "markdown",
      "source": [
        "# Дополнительное задание на защиту\n",
        "\n"
      ],
      "metadata": {
        "id": "8QV3lCmxiHF3"
      }
    },
    {
      "cell_type": "markdown",
      "source": [
        "В задании 3 выведите id клиента и его пол. Найдите среди других клиентов этого же пола \"похожего\" клиента. Похожесть измеряется списком категорий, в которых есть траты и есть пополнения. Для сравнения каждой пары клиентов будем считать отношение количества совпадающих категорий к сумме категорий эти двух клиентов."
      ],
      "metadata": {
        "id": "CS8y8X5elUqI"
      }
    },
    {
      "cell_type": "code",
      "source": [
        "customers=transactions[[\"customer_id\",\"gender\",\"tr_type\",\"amount\"]]\n",
        "customers=customers.groupby([\"customer_id\",\"gender\",\"tr_type\"]).count()\n",
        "customers_similarity=customers.groupby([\"gender\",\"tr_type\"]).count()"
      ],
      "metadata": {
        "id": "VZ_wxnXrlWoX"
      },
      "execution_count": null,
      "outputs": []
    },
    {
      "cell_type": "code",
      "source": [
        "customers_similarity"
      ],
      "metadata": {
        "colab": {
          "base_uri": "https://localhost:8080/",
          "height": 455
        },
        "id": "1kS1hqhmmVQI",
        "outputId": "8be45c99-e0b5-456e-a56c-43fb326a4e5c"
      },
      "execution_count": null,
      "outputs": [
        {
          "output_type": "execute_result",
          "data": {
            "text/plain": [
              "                amount\n",
              "gender tr_type        \n",
              "0.0    1010        528\n",
              "       1030        535\n",
              "       1100        250\n",
              "       1110        504\n",
              "       1200        154\n",
              "...                ...\n",
              "1.0    7070        340\n",
              "       7071        130\n",
              "       7074         20\n",
              "       7075          4\n",
              "       8100          1\n",
              "\n",
              "[123 rows x 1 columns]"
            ],
            "text/html": [
              "\n",
              "  <div id=\"df-6226e13e-6c31-4caa-a0e3-e3132d4d32a8\">\n",
              "    <div class=\"colab-df-container\">\n",
              "      <div>\n",
              "<style scoped>\n",
              "    .dataframe tbody tr th:only-of-type {\n",
              "        vertical-align: middle;\n",
              "    }\n",
              "\n",
              "    .dataframe tbody tr th {\n",
              "        vertical-align: top;\n",
              "    }\n",
              "\n",
              "    .dataframe thead th {\n",
              "        text-align: right;\n",
              "    }\n",
              "</style>\n",
              "<table border=\"1\" class=\"dataframe\">\n",
              "  <thead>\n",
              "    <tr style=\"text-align: right;\">\n",
              "      <th></th>\n",
              "      <th></th>\n",
              "      <th>amount</th>\n",
              "    </tr>\n",
              "    <tr>\n",
              "      <th>gender</th>\n",
              "      <th>tr_type</th>\n",
              "      <th></th>\n",
              "    </tr>\n",
              "  </thead>\n",
              "  <tbody>\n",
              "    <tr>\n",
              "      <th rowspan=\"5\" valign=\"top\">0.0</th>\n",
              "      <th>1010</th>\n",
              "      <td>528</td>\n",
              "    </tr>\n",
              "    <tr>\n",
              "      <th>1030</th>\n",
              "      <td>535</td>\n",
              "    </tr>\n",
              "    <tr>\n",
              "      <th>1100</th>\n",
              "      <td>250</td>\n",
              "    </tr>\n",
              "    <tr>\n",
              "      <th>1110</th>\n",
              "      <td>504</td>\n",
              "    </tr>\n",
              "    <tr>\n",
              "      <th>1200</th>\n",
              "      <td>154</td>\n",
              "    </tr>\n",
              "    <tr>\n",
              "      <th>...</th>\n",
              "      <th>...</th>\n",
              "      <td>...</td>\n",
              "    </tr>\n",
              "    <tr>\n",
              "      <th rowspan=\"5\" valign=\"top\">1.0</th>\n",
              "      <th>7070</th>\n",
              "      <td>340</td>\n",
              "    </tr>\n",
              "    <tr>\n",
              "      <th>7071</th>\n",
              "      <td>130</td>\n",
              "    </tr>\n",
              "    <tr>\n",
              "      <th>7074</th>\n",
              "      <td>20</td>\n",
              "    </tr>\n",
              "    <tr>\n",
              "      <th>7075</th>\n",
              "      <td>4</td>\n",
              "    </tr>\n",
              "    <tr>\n",
              "      <th>8100</th>\n",
              "      <td>1</td>\n",
              "    </tr>\n",
              "  </tbody>\n",
              "</table>\n",
              "<p>123 rows × 1 columns</p>\n",
              "</div>\n",
              "      <button class=\"colab-df-convert\" onclick=\"convertToInteractive('df-6226e13e-6c31-4caa-a0e3-e3132d4d32a8')\"\n",
              "              title=\"Convert this dataframe to an interactive table.\"\n",
              "              style=\"display:none;\">\n",
              "        \n",
              "  <svg xmlns=\"http://www.w3.org/2000/svg\" height=\"24px\"viewBox=\"0 0 24 24\"\n",
              "       width=\"24px\">\n",
              "    <path d=\"M0 0h24v24H0V0z\" fill=\"none\"/>\n",
              "    <path d=\"M18.56 5.44l.94 2.06.94-2.06 2.06-.94-2.06-.94-.94-2.06-.94 2.06-2.06.94zm-11 1L8.5 8.5l.94-2.06 2.06-.94-2.06-.94L8.5 2.5l-.94 2.06-2.06.94zm10 10l.94 2.06.94-2.06 2.06-.94-2.06-.94-.94-2.06-.94 2.06-2.06.94z\"/><path d=\"M17.41 7.96l-1.37-1.37c-.4-.4-.92-.59-1.43-.59-.52 0-1.04.2-1.43.59L10.3 9.45l-7.72 7.72c-.78.78-.78 2.05 0 2.83L4 21.41c.39.39.9.59 1.41.59.51 0 1.02-.2 1.41-.59l7.78-7.78 2.81-2.81c.8-.78.8-2.07 0-2.86zM5.41 20L4 18.59l7.72-7.72 1.47 1.35L5.41 20z\"/>\n",
              "  </svg>\n",
              "      </button>\n",
              "      \n",
              "  <style>\n",
              "    .colab-df-container {\n",
              "      display:flex;\n",
              "      flex-wrap:wrap;\n",
              "      gap: 12px;\n",
              "    }\n",
              "\n",
              "    .colab-df-convert {\n",
              "      background-color: #E8F0FE;\n",
              "      border: none;\n",
              "      border-radius: 50%;\n",
              "      cursor: pointer;\n",
              "      display: none;\n",
              "      fill: #1967D2;\n",
              "      height: 32px;\n",
              "      padding: 0 0 0 0;\n",
              "      width: 32px;\n",
              "    }\n",
              "\n",
              "    .colab-df-convert:hover {\n",
              "      background-color: #E2EBFA;\n",
              "      box-shadow: 0px 1px 2px rgba(60, 64, 67, 0.3), 0px 1px 3px 1px rgba(60, 64, 67, 0.15);\n",
              "      fill: #174EA6;\n",
              "    }\n",
              "\n",
              "    [theme=dark] .colab-df-convert {\n",
              "      background-color: #3B4455;\n",
              "      fill: #D2E3FC;\n",
              "    }\n",
              "\n",
              "    [theme=dark] .colab-df-convert:hover {\n",
              "      background-color: #434B5C;\n",
              "      box-shadow: 0px 1px 3px 1px rgba(0, 0, 0, 0.15);\n",
              "      filter: drop-shadow(0px 1px 2px rgba(0, 0, 0, 0.3));\n",
              "      fill: #FFFFFF;\n",
              "    }\n",
              "  </style>\n",
              "\n",
              "      <script>\n",
              "        const buttonEl =\n",
              "          document.querySelector('#df-6226e13e-6c31-4caa-a0e3-e3132d4d32a8 button.colab-df-convert');\n",
              "        buttonEl.style.display =\n",
              "          google.colab.kernel.accessAllowed ? 'block' : 'none';\n",
              "\n",
              "        async function convertToInteractive(key) {\n",
              "          const element = document.querySelector('#df-6226e13e-6c31-4caa-a0e3-e3132d4d32a8');\n",
              "          const dataTable =\n",
              "            await google.colab.kernel.invokeFunction('convertToInteractive',\n",
              "                                                     [key], {});\n",
              "          if (!dataTable) return;\n",
              "\n",
              "          const docLinkHtml = 'Like what you see? Visit the ' +\n",
              "            '<a target=\"_blank\" href=https://colab.research.google.com/notebooks/data_table.ipynb>data table notebook</a>'\n",
              "            + ' to learn more about interactive tables.';\n",
              "          element.innerHTML = '';\n",
              "          dataTable['output_type'] = 'display_data';\n",
              "          await google.colab.output.renderOutput(dataTable, element);\n",
              "          const docLink = document.createElement('div');\n",
              "          docLink.innerHTML = docLinkHtml;\n",
              "          element.appendChild(docLink);\n",
              "        }\n",
              "      </script>\n",
              "    </div>\n",
              "  </div>\n",
              "  "
            ]
          },
          "metadata": {},
          "execution_count": 94
        }
      ]
    },
    {
      "cell_type": "code",
      "source": [
        "customers"
      ],
      "metadata": {
        "colab": {
          "base_uri": "https://localhost:8080/",
          "height": 455
        },
        "id": "rsGeT92ps8k4",
        "outputId": "9d87ccb0-151a-4680-8761-36f5abfd8a12"
      },
      "execution_count": null,
      "outputs": [
        {
          "output_type": "execute_result",
          "data": {
            "text/plain": [
              "                            amount\n",
              "customer_id gender tr_type        \n",
              "115617      1.0    1010         14\n",
              "                   1030          5\n",
              "                   1110         32\n",
              "                   2010         40\n",
              "                   2020          2\n",
              "...                            ...\n",
              "99999680    1.0    7010         13\n",
              "                   7020          1\n",
              "                   7030         11\n",
              "                   7031          3\n",
              "                   7070         22\n",
              "\n",
              "[12654 rows x 1 columns]"
            ],
            "text/html": [
              "\n",
              "  <div id=\"df-fa57a4ce-0a03-4e35-9bd7-809bca3fd278\">\n",
              "    <div class=\"colab-df-container\">\n",
              "      <div>\n",
              "<style scoped>\n",
              "    .dataframe tbody tr th:only-of-type {\n",
              "        vertical-align: middle;\n",
              "    }\n",
              "\n",
              "    .dataframe tbody tr th {\n",
              "        vertical-align: top;\n",
              "    }\n",
              "\n",
              "    .dataframe thead th {\n",
              "        text-align: right;\n",
              "    }\n",
              "</style>\n",
              "<table border=\"1\" class=\"dataframe\">\n",
              "  <thead>\n",
              "    <tr style=\"text-align: right;\">\n",
              "      <th></th>\n",
              "      <th></th>\n",
              "      <th></th>\n",
              "      <th>amount</th>\n",
              "    </tr>\n",
              "    <tr>\n",
              "      <th>customer_id</th>\n",
              "      <th>gender</th>\n",
              "      <th>tr_type</th>\n",
              "      <th></th>\n",
              "    </tr>\n",
              "  </thead>\n",
              "  <tbody>\n",
              "    <tr>\n",
              "      <th rowspan=\"5\" valign=\"top\">115617</th>\n",
              "      <th rowspan=\"5\" valign=\"top\">1.0</th>\n",
              "      <th>1010</th>\n",
              "      <td>14</td>\n",
              "    </tr>\n",
              "    <tr>\n",
              "      <th>1030</th>\n",
              "      <td>5</td>\n",
              "    </tr>\n",
              "    <tr>\n",
              "      <th>1110</th>\n",
              "      <td>32</td>\n",
              "    </tr>\n",
              "    <tr>\n",
              "      <th>2010</th>\n",
              "      <td>40</td>\n",
              "    </tr>\n",
              "    <tr>\n",
              "      <th>2020</th>\n",
              "      <td>2</td>\n",
              "    </tr>\n",
              "    <tr>\n",
              "      <th>...</th>\n",
              "      <th>...</th>\n",
              "      <th>...</th>\n",
              "      <td>...</td>\n",
              "    </tr>\n",
              "    <tr>\n",
              "      <th rowspan=\"5\" valign=\"top\">99999680</th>\n",
              "      <th rowspan=\"5\" valign=\"top\">1.0</th>\n",
              "      <th>7010</th>\n",
              "      <td>13</td>\n",
              "    </tr>\n",
              "    <tr>\n",
              "      <th>7020</th>\n",
              "      <td>1</td>\n",
              "    </tr>\n",
              "    <tr>\n",
              "      <th>7030</th>\n",
              "      <td>11</td>\n",
              "    </tr>\n",
              "    <tr>\n",
              "      <th>7031</th>\n",
              "      <td>3</td>\n",
              "    </tr>\n",
              "    <tr>\n",
              "      <th>7070</th>\n",
              "      <td>22</td>\n",
              "    </tr>\n",
              "  </tbody>\n",
              "</table>\n",
              "<p>12654 rows × 1 columns</p>\n",
              "</div>\n",
              "      <button class=\"colab-df-convert\" onclick=\"convertToInteractive('df-fa57a4ce-0a03-4e35-9bd7-809bca3fd278')\"\n",
              "              title=\"Convert this dataframe to an interactive table.\"\n",
              "              style=\"display:none;\">\n",
              "        \n",
              "  <svg xmlns=\"http://www.w3.org/2000/svg\" height=\"24px\"viewBox=\"0 0 24 24\"\n",
              "       width=\"24px\">\n",
              "    <path d=\"M0 0h24v24H0V0z\" fill=\"none\"/>\n",
              "    <path d=\"M18.56 5.44l.94 2.06.94-2.06 2.06-.94-2.06-.94-.94-2.06-.94 2.06-2.06.94zm-11 1L8.5 8.5l.94-2.06 2.06-.94-2.06-.94L8.5 2.5l-.94 2.06-2.06.94zm10 10l.94 2.06.94-2.06 2.06-.94-2.06-.94-.94-2.06-.94 2.06-2.06.94z\"/><path d=\"M17.41 7.96l-1.37-1.37c-.4-.4-.92-.59-1.43-.59-.52 0-1.04.2-1.43.59L10.3 9.45l-7.72 7.72c-.78.78-.78 2.05 0 2.83L4 21.41c.39.39.9.59 1.41.59.51 0 1.02-.2 1.41-.59l7.78-7.78 2.81-2.81c.8-.78.8-2.07 0-2.86zM5.41 20L4 18.59l7.72-7.72 1.47 1.35L5.41 20z\"/>\n",
              "  </svg>\n",
              "      </button>\n",
              "      \n",
              "  <style>\n",
              "    .colab-df-container {\n",
              "      display:flex;\n",
              "      flex-wrap:wrap;\n",
              "      gap: 12px;\n",
              "    }\n",
              "\n",
              "    .colab-df-convert {\n",
              "      background-color: #E8F0FE;\n",
              "      border: none;\n",
              "      border-radius: 50%;\n",
              "      cursor: pointer;\n",
              "      display: none;\n",
              "      fill: #1967D2;\n",
              "      height: 32px;\n",
              "      padding: 0 0 0 0;\n",
              "      width: 32px;\n",
              "    }\n",
              "\n",
              "    .colab-df-convert:hover {\n",
              "      background-color: #E2EBFA;\n",
              "      box-shadow: 0px 1px 2px rgba(60, 64, 67, 0.3), 0px 1px 3px 1px rgba(60, 64, 67, 0.15);\n",
              "      fill: #174EA6;\n",
              "    }\n",
              "\n",
              "    [theme=dark] .colab-df-convert {\n",
              "      background-color: #3B4455;\n",
              "      fill: #D2E3FC;\n",
              "    }\n",
              "\n",
              "    [theme=dark] .colab-df-convert:hover {\n",
              "      background-color: #434B5C;\n",
              "      box-shadow: 0px 1px 3px 1px rgba(0, 0, 0, 0.15);\n",
              "      filter: drop-shadow(0px 1px 2px rgba(0, 0, 0, 0.3));\n",
              "      fill: #FFFFFF;\n",
              "    }\n",
              "  </style>\n",
              "\n",
              "      <script>\n",
              "        const buttonEl =\n",
              "          document.querySelector('#df-fa57a4ce-0a03-4e35-9bd7-809bca3fd278 button.colab-df-convert');\n",
              "        buttonEl.style.display =\n",
              "          google.colab.kernel.accessAllowed ? 'block' : 'none';\n",
              "\n",
              "        async function convertToInteractive(key) {\n",
              "          const element = document.querySelector('#df-fa57a4ce-0a03-4e35-9bd7-809bca3fd278');\n",
              "          const dataTable =\n",
              "            await google.colab.kernel.invokeFunction('convertToInteractive',\n",
              "                                                     [key], {});\n",
              "          if (!dataTable) return;\n",
              "\n",
              "          const docLinkHtml = 'Like what you see? Visit the ' +\n",
              "            '<a target=\"_blank\" href=https://colab.research.google.com/notebooks/data_table.ipynb>data table notebook</a>'\n",
              "            + ' to learn more about interactive tables.';\n",
              "          element.innerHTML = '';\n",
              "          dataTable['output_type'] = 'display_data';\n",
              "          await google.colab.output.renderOutput(dataTable, element);\n",
              "          const docLink = document.createElement('div');\n",
              "          docLink.innerHTML = docLinkHtml;\n",
              "          element.appendChild(docLink);\n",
              "        }\n",
              "      </script>\n",
              "    </div>\n",
              "  </div>\n",
              "  "
            ]
          },
          "metadata": {},
          "execution_count": 80
        }
      ]
    },
    {
      "cell_type": "markdown",
      "source": [
        "**Сравнение 1 покупателя со всеми его пола на типам:**\n"
      ],
      "metadata": {
        "id": "noKONbQMwnty"
      }
    },
    {
      "cell_type": "code",
      "source": [
        "customers[\"dd\"]=customers.reset_index()[\"amount\"]/customers_similarity[0]"
      ],
      "metadata": {
        "id": "fEOQAVbmt_AR"
      },
      "execution_count": null,
      "outputs": []
    },
    {
      "cell_type": "code",
      "source": [
        "customers"
      ],
      "metadata": {
        "colab": {
          "base_uri": "https://localhost:8080/",
          "height": 455
        },
        "id": "ARqasZb0u9O4",
        "outputId": "70988a1b-4371-4de0-e881-03c6eca88670"
      },
      "execution_count": null,
      "outputs": [
        {
          "output_type": "execute_result",
          "data": {
            "text/plain": [
              "                            amount\n",
              "customer_id gender tr_type        \n",
              "115617      1.0    1010         14\n",
              "                   1030          5\n",
              "                   1110         32\n",
              "                   2010         40\n",
              "                   2020          2\n",
              "...                            ...\n",
              "99999680    1.0    7010         13\n",
              "                   7020          1\n",
              "                   7030         11\n",
              "                   7031          3\n",
              "                   7070         22\n",
              "\n",
              "[12654 rows x 1 columns]"
            ],
            "text/html": [
              "\n",
              "  <div id=\"df-0a96241c-6a62-455d-8373-3600b449e549\">\n",
              "    <div class=\"colab-df-container\">\n",
              "      <div>\n",
              "<style scoped>\n",
              "    .dataframe tbody tr th:only-of-type {\n",
              "        vertical-align: middle;\n",
              "    }\n",
              "\n",
              "    .dataframe tbody tr th {\n",
              "        vertical-align: top;\n",
              "    }\n",
              "\n",
              "    .dataframe thead th {\n",
              "        text-align: right;\n",
              "    }\n",
              "</style>\n",
              "<table border=\"1\" class=\"dataframe\">\n",
              "  <thead>\n",
              "    <tr style=\"text-align: right;\">\n",
              "      <th></th>\n",
              "      <th></th>\n",
              "      <th></th>\n",
              "      <th>amount</th>\n",
              "    </tr>\n",
              "    <tr>\n",
              "      <th>customer_id</th>\n",
              "      <th>gender</th>\n",
              "      <th>tr_type</th>\n",
              "      <th></th>\n",
              "    </tr>\n",
              "  </thead>\n",
              "  <tbody>\n",
              "    <tr>\n",
              "      <th rowspan=\"5\" valign=\"top\">115617</th>\n",
              "      <th rowspan=\"5\" valign=\"top\">1.0</th>\n",
              "      <th>1010</th>\n",
              "      <td>14</td>\n",
              "    </tr>\n",
              "    <tr>\n",
              "      <th>1030</th>\n",
              "      <td>5</td>\n",
              "    </tr>\n",
              "    <tr>\n",
              "      <th>1110</th>\n",
              "      <td>32</td>\n",
              "    </tr>\n",
              "    <tr>\n",
              "      <th>2010</th>\n",
              "      <td>40</td>\n",
              "    </tr>\n",
              "    <tr>\n",
              "      <th>2020</th>\n",
              "      <td>2</td>\n",
              "    </tr>\n",
              "    <tr>\n",
              "      <th>...</th>\n",
              "      <th>...</th>\n",
              "      <th>...</th>\n",
              "      <td>...</td>\n",
              "    </tr>\n",
              "    <tr>\n",
              "      <th rowspan=\"5\" valign=\"top\">99999680</th>\n",
              "      <th rowspan=\"5\" valign=\"top\">1.0</th>\n",
              "      <th>7010</th>\n",
              "      <td>13</td>\n",
              "    </tr>\n",
              "    <tr>\n",
              "      <th>7020</th>\n",
              "      <td>1</td>\n",
              "    </tr>\n",
              "    <tr>\n",
              "      <th>7030</th>\n",
              "      <td>11</td>\n",
              "    </tr>\n",
              "    <tr>\n",
              "      <th>7031</th>\n",
              "      <td>3</td>\n",
              "    </tr>\n",
              "    <tr>\n",
              "      <th>7070</th>\n",
              "      <td>22</td>\n",
              "    </tr>\n",
              "  </tbody>\n",
              "</table>\n",
              "<p>12654 rows × 1 columns</p>\n",
              "</div>\n",
              "      <button class=\"colab-df-convert\" onclick=\"convertToInteractive('df-0a96241c-6a62-455d-8373-3600b449e549')\"\n",
              "              title=\"Convert this dataframe to an interactive table.\"\n",
              "              style=\"display:none;\">\n",
              "        \n",
              "  <svg xmlns=\"http://www.w3.org/2000/svg\" height=\"24px\"viewBox=\"0 0 24 24\"\n",
              "       width=\"24px\">\n",
              "    <path d=\"M0 0h24v24H0V0z\" fill=\"none\"/>\n",
              "    <path d=\"M18.56 5.44l.94 2.06.94-2.06 2.06-.94-2.06-.94-.94-2.06-.94 2.06-2.06.94zm-11 1L8.5 8.5l.94-2.06 2.06-.94-2.06-.94L8.5 2.5l-.94 2.06-2.06.94zm10 10l.94 2.06.94-2.06 2.06-.94-2.06-.94-.94-2.06-.94 2.06-2.06.94z\"/><path d=\"M17.41 7.96l-1.37-1.37c-.4-.4-.92-.59-1.43-.59-.52 0-1.04.2-1.43.59L10.3 9.45l-7.72 7.72c-.78.78-.78 2.05 0 2.83L4 21.41c.39.39.9.59 1.41.59.51 0 1.02-.2 1.41-.59l7.78-7.78 2.81-2.81c.8-.78.8-2.07 0-2.86zM5.41 20L4 18.59l7.72-7.72 1.47 1.35L5.41 20z\"/>\n",
              "  </svg>\n",
              "      </button>\n",
              "      \n",
              "  <style>\n",
              "    .colab-df-container {\n",
              "      display:flex;\n",
              "      flex-wrap:wrap;\n",
              "      gap: 12px;\n",
              "    }\n",
              "\n",
              "    .colab-df-convert {\n",
              "      background-color: #E8F0FE;\n",
              "      border: none;\n",
              "      border-radius: 50%;\n",
              "      cursor: pointer;\n",
              "      display: none;\n",
              "      fill: #1967D2;\n",
              "      height: 32px;\n",
              "      padding: 0 0 0 0;\n",
              "      width: 32px;\n",
              "    }\n",
              "\n",
              "    .colab-df-convert:hover {\n",
              "      background-color: #E2EBFA;\n",
              "      box-shadow: 0px 1px 2px rgba(60, 64, 67, 0.3), 0px 1px 3px 1px rgba(60, 64, 67, 0.15);\n",
              "      fill: #174EA6;\n",
              "    }\n",
              "\n",
              "    [theme=dark] .colab-df-convert {\n",
              "      background-color: #3B4455;\n",
              "      fill: #D2E3FC;\n",
              "    }\n",
              "\n",
              "    [theme=dark] .colab-df-convert:hover {\n",
              "      background-color: #434B5C;\n",
              "      box-shadow: 0px 1px 3px 1px rgba(0, 0, 0, 0.15);\n",
              "      filter: drop-shadow(0px 1px 2px rgba(0, 0, 0, 0.3));\n",
              "      fill: #FFFFFF;\n",
              "    }\n",
              "  </style>\n",
              "\n",
              "      <script>\n",
              "        const buttonEl =\n",
              "          document.querySelector('#df-0a96241c-6a62-455d-8373-3600b449e549 button.colab-df-convert');\n",
              "        buttonEl.style.display =\n",
              "          google.colab.kernel.accessAllowed ? 'block' : 'none';\n",
              "\n",
              "        async function convertToInteractive(key) {\n",
              "          const element = document.querySelector('#df-0a96241c-6a62-455d-8373-3600b449e549');\n",
              "          const dataTable =\n",
              "            await google.colab.kernel.invokeFunction('convertToInteractive',\n",
              "                                                     [key], {});\n",
              "          if (!dataTable) return;\n",
              "\n",
              "          const docLinkHtml = 'Like what you see? Visit the ' +\n",
              "            '<a target=\"_blank\" href=https://colab.research.google.com/notebooks/data_table.ipynb>data table notebook</a>'\n",
              "            + ' to learn more about interactive tables.';\n",
              "          element.innerHTML = '';\n",
              "          dataTable['output_type'] = 'display_data';\n",
              "          await google.colab.output.renderOutput(dataTable, element);\n",
              "          const docLink = document.createElement('div');\n",
              "          docLink.innerHTML = docLinkHtml;\n",
              "          element.appendChild(docLink);\n",
              "        }\n",
              "      </script>\n",
              "    </div>\n",
              "  </div>\n",
              "  "
            ]
          },
          "metadata": {},
          "execution_count": 86
        }
      ]
    }
  ],
  "metadata": {
    "colab": {
      "provenance": [],
      "toc_visible": true,
      "include_colab_link": true
    },
    "hide_input": false,
    "kernelspec": {
      "display_name": "Python 3",
      "language": "python",
      "name": "python3"
    },
    "language_info": {
      "codemirror_mode": {
        "name": "ipython",
        "version": 3
      },
      "file_extension": ".py",
      "mimetype": "text/x-python",
      "name": "python",
      "nbconvert_exporter": "python",
      "pygments_lexer": "ipython3",
      "version": "3.7.1"
    },
    "toc": {
      "base_numbering": 1,
      "nav_menu": {},
      "number_sections": true,
      "sideBar": true,
      "skip_h1_title": false,
      "title_cell": "Table of Contents",
      "title_sidebar": "Contents",
      "toc_cell": true,
      "toc_position": {},
      "toc_section_display": true,
      "toc_window_display": false
    },
    "varInspector": {
      "cols": {
        "lenName": 16,
        "lenType": 16,
        "lenVar": 40
      },
      "kernels_config": {
        "python": {
          "delete_cmd_postfix": "",
          "delete_cmd_prefix": "del ",
          "library": "var_list.py",
          "varRefreshCmd": "print(var_dic_list())"
        },
        "r": {
          "delete_cmd_postfix": ") ",
          "delete_cmd_prefix": "rm(",
          "library": "var_list.r",
          "varRefreshCmd": "cat(var_dic_list()) "
        }
      },
      "types_to_exclude": [
        "module",
        "function",
        "builtin_function_or_method",
        "instance",
        "_Feature"
      ],
      "window_display": false
    }
  },
  "nbformat": 4,
  "nbformat_minor": 0
}